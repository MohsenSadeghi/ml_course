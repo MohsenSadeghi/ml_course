{
  "cells": [
    {
      "cell_type": "markdown",
      "metadata": {
        "id": "view-in-github",
        "colab_type": "text"
      },
      "source": [
        "<a href=\"https://colab.research.google.com/github/MohsenSadeghi/ml_course/blob/main/notebooks/notebook_2_protein_classification.ipynb\" target=\"_parent\"><img src=\"https://colab.research.google.com/assets/colab-badge.svg\" alt=\"Open In Colab\"/></a>"
      ]
    },
    {
      "cell_type": "code",
      "execution_count": 1,
      "metadata": {
        "id": "rO4l0lJhRuW1"
      },
      "outputs": [],
      "source": [
        "import numpy as np\n",
        "import matplotlib.pyplot as plt\n",
        "import torch.nn as nn\n",
        "import torch\n",
        "from tqdm.notebook import tqdm\n",
        "import pickle, glob, urllib"
      ]
    },
    {
      "cell_type": "code",
      "execution_count": 2,
      "metadata": {
        "colab": {
          "base_uri": "https://localhost:8080/"
        },
        "id": "t5l1rX12t5qZ",
        "outputId": "171201c3-2768-40a7-b80f-5d3bdaa9a1b7"
      },
      "outputs": [
        {
          "output_type": "stream",
          "name": "stdout",
          "text": [
            "Is CUDA available: True\n",
            "CUDA version: 11.3\n",
            "PyTorch version: 1.12.1+cu113\n",
            "CUDA device name: Tesla T4\n"
          ]
        }
      ],
      "source": [
        "print(f\"Is CUDA available: {torch.cuda.is_available()}\")\n",
        "print(f\"CUDA version: {torch.version.cuda}\")\n",
        "print(f\"PyTorch version: {torch.__version__}\")\n",
        "\n",
        "print(f\"CUDA device name: {torch.cuda.get_device_name(0)}\")\n",
        "\n",
        "cuda0 = torch.device('cuda:0')\n",
        "cpu0 = torch.device('cpu:0')"
      ]
    },
    {
      "cell_type": "markdown",
      "metadata": {
        "id": "u4ukaPUW6Kg5"
      },
      "source": [
        "### By chaning ```save_net``` and ```load_net``` boolean variables, you can change/access the saved weights.\n",
        "### The ```train_net``` variable enables/disable the training loop."
      ]
    },
    {
      "cell_type": "code",
      "execution_count": 3,
      "metadata": {
        "id": "Z0GDL0YrvZUo"
      },
      "outputs": [],
      "source": [
        "save_net = False\n",
        "train_net = True\n",
        "load_net = True"
      ]
    },
    {
      "cell_type": "markdown",
      "metadata": {
        "id": "ASMNYKIM6Kg-"
      },
      "source": [
        "### Loading the table of sequence - protein class data from file"
      ]
    },
    {
      "cell_type": "code",
      "execution_count": 4,
      "metadata": {
        "id": "QutzB40I6Kg_"
      },
      "outputs": [],
      "source": [
        "if not glob.glob(\"./apolipo_dataset.pickle\") :\n",
        "\n",
        "        print(\"Downloading dataset...\")\n",
        "        \n",
        "        urllib.request.urlretrieve('https://ftp.mi.fu-berlin.de/pub/cmb-data/mohsen_data/apolipo_dataset.pickle',\n",
        "                                   './apolipo_dataset.pickle')\n",
        "        \n",
        "with open('./apolipo_dataset.pickle', 'rb') as handle:\n",
        "    dataset = pickle.load(handle)"
      ]
    },
    {
      "cell_type": "code",
      "execution_count": 5,
      "metadata": {
        "id": "2Kl5Ibmh6KhA",
        "outputId": "1399d8ed-6898-42c4-c373-ca427bef99b0",
        "colab": {
          "base_uri": "https://localhost:8080/"
        }
      },
      "outputs": [
        {
          "output_type": "stream",
          "name": "stdout",
          "text": [
            "\u001b[94m sequence = \u001b[0m MKAAVLTLAVLFLTGSQARHFWQQDEPPQSPWDRVKDLATVYVDVLKDSGRDYVSQFEGSALGKQLNLKLLDNWDSVTSTFSKLREQLGPVTQEFWDNLEKETEGLRQEMSKDLEEVKAKVQPYLDDFQKKWQEEMELYRQKVEPLRAELQEGARQKLHELQEKLSPLGEEMRDRARAHVDALRTHLAPYSDELRQRLAARLEALKENGGARLAEYHAKATEHLSTLSEKAKPALEDLRQGLLPVLESFKVSFLSALEEYTKKLNTQ\n",
            "\u001b[94m does sequence belong to an apolipoproteins? \u001b[0m True\n",
            "--------------------------------------------------\n",
            "\u001b[94m sequence = \u001b[0m MACIYPTTFYTSLPTKSLNMGISLTTILILSVAVLLSTAAPPSCRECYQSLHYRGEMQQYFTYHTHIERSCYGNLIEECVESGKSYYKVKNLGVCGSRNGAICPRGKQWLCFTKIGQWGVNTQVLEDIKREQIIAKAKASKPTTPPENRPRHFHSFIQKL\n",
            "\u001b[94m does sequence belong to an apolipoproteins? \u001b[0m False\n",
            "--------------------------------------------------\n"
          ]
        }
      ],
      "source": [
        "_color = '\\033[94m'\n",
        "_end_color = '\\033[0m'\n",
        "\n",
        "for i in [0, -1]:\n",
        "    print(f\"{_color} sequence = {_end_color} {dataset['sequence'][i]}\")\n",
        "    print(f\"{_color} does sequence belong to an apolipoproteins? {_end_color} {dataset['class'][i] == 1}\")\n",
        "    print(\"-\" * 50)"
      ]
    },
    {
      "cell_type": "markdown",
      "metadata": {
        "id": "Q4IWixHF6KhC"
      },
      "source": [
        "### The Tokenizer\n",
        "\n",
        "we want to assign numbers to the letters used in the alphabet (in this case, protein sequences)"
      ]
    },
    {
      "cell_type": "code",
      "execution_count": 6,
      "metadata": {
        "id": "995MPsoC6KhD",
        "outputId": "bd88c75b-9c28-4c18-96bf-448b57d1c41d",
        "colab": {
          "base_uri": "https://localhost:8080/"
        }
      },
      "outputs": [
        {
          "output_type": "stream",
          "name": "stdout",
          "text": [
            "alphabet = ('R', 'Y', 'D', 'L', 'T', 'K', 'S', 'I', 'H', 'F', 'W', 'N', 'C', 'Q', 'M', 'G', 'E', 'P', 'A', 'V')\n",
            "alphabet length = 20\n"
          ]
        }
      ],
      "source": [
        "seq_text = \"\"\n",
        "\n",
        "for seq in dataset[\"sequence\"]:\n",
        "    seq_text = seq_text + seq\n",
        "    \n",
        "chars = tuple(set(seq_text))\n",
        "\n",
        "int2char = dict(enumerate(chars))\n",
        "char2int = {ch: ii for ii, ch in int2char.items()}\n",
        "\n",
        "print(f\"alphabet = {chars}\")\n",
        "print(f\"alphabet length = {len(chars)}\")\n",
        "non_code = len(chars)\n",
        "\n",
        "dataset[\"encoded_sequence\"] = []\n",
        "\n",
        "for _seq in dataset[\"sequence\"]:\n",
        "    encoded = np.array([char2int[ch] for ch in _seq], dtype=np.int32)\n",
        "    \n",
        "    dataset[\"encoded_sequence\"].append(encoded)"
      ]
    },
    {
      "cell_type": "code",
      "execution_count": 7,
      "metadata": {
        "id": "LRpfNdyl6KhG",
        "outputId": "d883e7b2-0d3e-4d63-8207-dc51f863e1ec",
        "colab": {
          "base_uri": "https://localhost:8080/"
        }
      },
      "outputs": [
        {
          "output_type": "stream",
          "name": "stdout",
          "text": [
            "\u001b[94m sequence = \u001b[0m [14  5 18 18 19  3  4  3 18 19  3  9  3  4 15  6 13 18  0  8  9 10 13 13\n",
            "  2 16 17 17 13  6 17 10  2  0 19  5  2  3 18  4 19  1 19  2 19  3  5  2\n",
            "  6 15  0  2  1 19  6 13  9 16 15  6 18  3 15  5 13  3 11  3  5  3  3  2\n",
            " 11 10  2  6 19  4  6  4  9  6  5  3  0 16 13  3 15 17 19  4 13 16  9 10\n",
            "  2 11  3 16  5 16  4 16 15  3  0 13 16 14  6  5  2  3 16 16 19  5 18  5\n",
            " 19 13 17  1  3  2  2  9 13  5  5 10 13 16 16 14 16  3  1  0 13  5 19 16\n",
            " 17  3  0 18 16  3 13 16 15 18  0 13  5  3  8 16  3 13 16  5  3  6 17  3\n",
            " 15 16 16 14  0  2  0 18  0 18  8 19  2 18  3  0  4  8  3 18 17  1  6  2\n",
            " 16  3  0 13  0  3 18 18  0  3 16 18  3  5 16 11 15 15 18  0  3 18 16  1\n",
            "  8 18  5 18  4 16  8  3  6  4  3  6 16  5 18  5 17 18  3 16  2  3  0 13\n",
            " 15  3  3 17 19  3 16  6  9  5 19  6  9  3  6 18  3 16 16  1  4  5  5  3\n",
            " 11  4 13]\n",
            "\u001b[94m does sequence belong to an apolipoproteins? \u001b[0m True\n",
            "--------------------------------------------------\n",
            "\u001b[94m sequence = \u001b[0m [14 18 12  7  1 17  4  4  9  1  4  6  3 17  4  5  6  3 11 14 15  7  6  3\n",
            "  4  4  7  3  7  3  6 19 18 19  3  3  6  4 18 18 17 17  6 12  0 16 12  1\n",
            " 13  6  3  8  1  0 15 16 14 13 13  1  9  4  1  8  4  8  7 16  0  6 12  1\n",
            " 15 11  3  7 16 16 12 19 16  6 15  5  6  1  1  5 19  5 11  3 15 19 12 15\n",
            "  6  0 11 15 18  7 12 17  0 15  5 13 10  3 12  9  4  5  7 15 13 10 15 19\n",
            " 11  4 13 19  3 16  2  7  5  0 16 13  7  7 18  5 18  5 18  6  5 17  4  4\n",
            " 17 17 16 11  0 17  0  8  9  8  6  9  7 13  5  3]\n",
            "\u001b[94m does sequence belong to an apolipoproteins? \u001b[0m False\n",
            "--------------------------------------------------\n"
          ]
        }
      ],
      "source": [
        "for i in [0, -1]:\n",
        "    print(f\"{_color} sequence = {_end_color} {dataset['encoded_sequence'][i]}\")\n",
        "    print(f\"{_color} does sequence belong to an apolipoproteins? {_end_color} {dataset['class'][i] == 1}\")\n",
        "    print(\"-\" * 50)"
      ]
    },
    {
      "cell_type": "markdown",
      "metadata": {
        "id": "vRJwgoo96KhH"
      },
      "source": [
        "### Additionally, we crop the sequence at 200 residues\n",
        "\n",
        "Hopefully, the classifier can pick the class from the cropped sequence as well."
      ]
    },
    {
      "cell_type": "code",
      "execution_count": 8,
      "metadata": {
        "id": "-RdPYfWP6KhI"
      },
      "outputs": [],
      "source": [
        "fixed_length = 200\n",
        "\n",
        "dataset[\"cropped_sequence\"] = []\n",
        "\n",
        "for _seq in dataset[\"encoded_sequence\"]:\n",
        "    \n",
        "    if len(_seq) < fixed_length:\n",
        "        dataset[\"cropped_sequence\"].append(np.pad(_seq, (0, fixed_length - len(_seq)), constant_values=non_code))\n",
        "    else:\n",
        "        dataset[\"cropped_sequence\"].append(_seq[:fixed_length].copy())"
      ]
    },
    {
      "cell_type": "code",
      "execution_count": 9,
      "metadata": {
        "id": "HwB6hLl86KhJ"
      },
      "outputs": [],
      "source": [
        "for _seq in dataset[\"cropped_sequence\"]:\n",
        "    assert len(_seq) == fixed_length"
      ]
    },
    {
      "cell_type": "markdown",
      "metadata": {
        "id": "ePXKYF8m6KhK"
      },
      "source": [
        "### The following is an implementation of a \"classifier\" network\n",
        "\n",
        "It is composed of:\n",
        "- an Embedding layer (which translates the sequence into vectors of dimension ```embedding_dim```)\n",
        "- several one-dimensional Convolutional layers\n",
        "- a series of Dense layers acting on the flattened output of the last convolutional layer\n",
        "\n",
        "ReLU is used as the activation function throughout the network.\n",
        "\n",
        "Dropout is applied on the weights of the Dense layers to prevent overfitting."
      ]
    },
    {
      "cell_type": "code",
      "execution_count": 10,
      "metadata": {
        "id": "oX2tfmVc6KhL"
      },
      "outputs": [],
      "source": [
        "class ProteinClassifierNet(nn.Module):\n",
        "\n",
        "    def __init__(self, input_size, n_classes,\n",
        "                 embedding_dim=5, \n",
        "                 conv_layers_kernel_sizes = [3, 3, 3],\n",
        "                 conv_layers_n_filters = [16, 16, 4],\n",
        "                 dense_layers_dim=[128, 32, 8]):\n",
        "\n",
        "        super(ProteinClassifierNet, self).__init__()\n",
        "        \n",
        "        self.embedding = torch.nn.Embedding(num_embeddings=non_code + 1,\n",
        "                                            embedding_dim=embedding_dim)\n",
        "        \n",
        "        self.conv_layers = nn.ModuleList()\n",
        "        current_n_channels = embedding_dim\n",
        "        \n",
        "        for _kernel_size, _n_filters in zip(conv_layers_kernel_sizes, conv_layers_n_filters):\n",
        "            self.conv_layers.append(nn.Conv1d(in_channels=current_n_channels,\n",
        "                                              out_channels=_n_filters,\n",
        "                                              padding=_kernel_size // 2,\n",
        "                                              kernel_size=_kernel_size))\n",
        "            \n",
        "            current_n_channels = _n_filters\n",
        "        \n",
        "        self.dense_layers = nn.ModuleList()\n",
        "        current_dim = current_n_channels * input_size\n",
        "        \n",
        "        for _dim in dense_layers_dim:\n",
        "            \n",
        "            self.dense_layers.append(nn.Linear(in_features=current_dim,\n",
        "                                          out_features=_dim, bias=True))\n",
        "            self.dense_layers\n",
        "            current_dim = _dim\n",
        "        \n",
        "        self.dropout_layer = nn.Dropout(0.5)\n",
        "        \n",
        "        self.final_layer = nn.Linear(in_features=current_dim, out_features=n_classes, bias=True)\n",
        "     \n",
        "    def forward(self, x, **kwargs):\n",
        "    \n",
        "        x = self.embedding(x)\n",
        "        \n",
        "        x = torch.transpose(x, 1, 2)\n",
        "        \n",
        "        for _lay in self.conv_layers:\n",
        "            x = torch.relu(_lay(x, **kwargs))\n",
        "        \n",
        "        x = torch.flatten(x, start_dim=1, end_dim=-1)\n",
        "        \n",
        "        for _lay in self.dense_layers:\n",
        "            x = self.dropout_layer(torch.relu(_lay(x, **kwargs)))\n",
        "\n",
        "        x = self.final_layer (x)\n",
        "        \n",
        "        return x"
      ]
    },
    {
      "cell_type": "markdown",
      "metadata": {
        "id": "X65r6mq_6KhM"
      },
      "source": [
        "### Preparing datasets to be fed to the network for training and validation\n",
        "\n",
        "We use an 90% - 10% split between training and validation data.\n",
        "\n",
        "The data is being randomly partitioned and used in the training loop. This is a simple example of the **Holdout** cross-validation method.\n",
        "\n",
        "The ```batch_size``` can be adjusted to change the stochasticity of the gradient descent procedure."
      ]
    },
    {
      "cell_type": "code",
      "execution_count": 11,
      "metadata": {
        "id": "C9Kba-MV6KhN"
      },
      "outputs": [],
      "source": [
        "batch_size = 8\n",
        "\n",
        "torch_dataset = torch.utils.data.TensorDataset(torch.from_numpy(np.array(dataset[\"cropped_sequence\"])).to(cuda0),\n",
        "           torch.from_numpy(np.array(dataset[\"class\"])).to(cuda0))"
      ]
    },
    {
      "cell_type": "code",
      "execution_count": 12,
      "metadata": {
        "id": "0-2sZ-fF6KhO"
      },
      "outputs": [],
      "source": [
        "n_train_data = int(np.ceil(0.9 * len(torch_dataset)))\n",
        "n_validation_data = len(torch_dataset) - n_train_data"
      ]
    },
    {
      "cell_type": "markdown",
      "metadata": {
        "id": "u3XfSaDS6KhO"
      },
      "source": [
        "### Constructing an instance of the network\n",
        "\n",
        "with the given embedding dimensions, and the output dimension of 2, for two-class predictions."
      ]
    },
    {
      "cell_type": "code",
      "execution_count": 13,
      "metadata": {
        "id": "ZBc9CO8g6KhP",
        "outputId": "4617bf6f-7910-496a-fe2a-a2170b9610b7",
        "colab": {
          "base_uri": "https://localhost:8080/"
        }
      },
      "outputs": [
        {
          "output_type": "stream",
          "name": "stdout",
          "text": [
            "ProteinClassifierNet(\n",
            "  (embedding): Embedding(21, 5)\n",
            "  (conv_layers): ModuleList(\n",
            "    (0): Conv1d(5, 16, kernel_size=(3,), stride=(1,), padding=(1,))\n",
            "    (1): Conv1d(16, 16, kernel_size=(3,), stride=(1,), padding=(1,))\n",
            "    (2): Conv1d(16, 4, kernel_size=(3,), stride=(1,), padding=(1,))\n",
            "  )\n",
            "  (dense_layers): ModuleList(\n",
            "    (0): Linear(in_features=800, out_features=128, bias=True)\n",
            "    (1): Linear(in_features=128, out_features=32, bias=True)\n",
            "    (2): Linear(in_features=32, out_features=8, bias=True)\n",
            "  )\n",
            "  (dropout_layer): Dropout(p=0.5, inplace=False)\n",
            "  (final_layer): Linear(in_features=8, out_features=2, bias=True)\n",
            ")\n"
          ]
        }
      ],
      "source": [
        "net = ProteinClassifierNet (input_size=fixed_length, n_classes=2, embedding_dim=5).to(cuda0)\n",
        "\n",
        "print(net)"
      ]
    },
    {
      "cell_type": "markdown",
      "metadata": {
        "id": "-WUm454V6KhP"
      },
      "source": [
        "### This is \"Adam\", our optimizer.\n",
        "\n",
        "This is an enhanced version of a gradient-descent optimizer.\n",
        "\n",
        "The learning rate is set to be 5E-5."
      ]
    },
    {
      "cell_type": "code",
      "execution_count": 14,
      "metadata": {
        "id": "dp35CKOq6KhQ"
      },
      "outputs": [],
      "source": [
        "optimizer = torch.optim.AdamW(net.parameters(), lr=5.0e-5)"
      ]
    },
    {
      "cell_type": "markdown",
      "metadata": {
        "id": "SpTTG_rD6KhQ"
      },
      "source": [
        "### The loss function\n",
        "\n",
        "The characteristic loss function used in classification tasks is the so-called **Cross-Entropy** loss."
      ]
    },
    {
      "cell_type": "code",
      "execution_count": 15,
      "metadata": {
        "id": "CPJoCDJ56KhR"
      },
      "outputs": [],
      "source": [
        "loss_function = nn.CrossEntropyLoss(reduction='mean')"
      ]
    },
    {
      "cell_type": "markdown",
      "metadata": {
        "id": "tQK_RXte6KhR"
      },
      "source": [
        "This is a helper function to calculate the accuracy of class predictions on either of the training or validation datasets."
      ]
    },
    {
      "cell_type": "code",
      "execution_count": 16,
      "metadata": {
        "id": "rF0TxsZj6KhR"
      },
      "outputs": [],
      "source": [
        "def calc_accuracy(net, data_loader, n_classes):\n",
        "\n",
        "    correct_hit = 0.0\n",
        "    total_hit = 0.0\n",
        "\n",
        "    net.eval()\n",
        "\n",
        "    with torch.no_grad():\n",
        "\n",
        "        for i, (input_data, target_data) in enumerate(data_loader):\n",
        "\n",
        "            outputs = torch.nn.functional.softmax(net(input_data), dim=1)\n",
        "\n",
        "            predicted = torch.argmax(outputs, dim=1)\n",
        "\n",
        "            for _t, _p in zip(target_data.cpu().numpy(), predicted.cpu().numpy()):\n",
        "\n",
        "                total_hit += 1.0\n",
        "\n",
        "                if _t == _p:\n",
        "\n",
        "                    correct_hit += 1.0\n",
        "\n",
        "    return correct_hit / total_hit"
      ]
    },
    {
      "cell_type": "markdown",
      "metadata": {
        "id": "Hu-32XMu6KhS"
      },
      "source": [
        "Getting things ready for the training loop:"
      ]
    },
    {
      "cell_type": "code",
      "execution_count": 17,
      "metadata": {
        "id": "ZincvN_L6KhS"
      },
      "outputs": [],
      "source": [
        "n_epochs = 100\n",
        "\n",
        "gathered_loss = {'training': [], 'validation': [], 'accuracy': []}"
      ]
    },
    {
      "cell_type": "markdown",
      "metadata": {
        "id": "JNFjn-sM6KhS"
      },
      "source": [
        "### The training loop\n",
        "\n",
        "We continue the training until:\n",
        "\n",
        "- the network starts to overfit (validation loss starts to gain on training loss)\n",
        "- we reach a maximum number of epochs"
      ]
    },
    {
      "cell_type": "code",
      "execution_count": 20,
      "metadata": {
        "id": "DnkF1OEq6KhT",
        "outputId": "a3822b73-28b9-4b90-db73-9e9c634bea11",
        "colab": {
          "base_uri": "https://localhost:8080/"
        }
      },
      "outputs": [
        {
          "output_type": "stream",
          "name": "stdout",
          "text": [
            "epoch: 2 -- training loss = 0.563086 -- validation loss = 0.390037 -- validation accuracy = 0.72\n",
            "epoch: 4 -- training loss = 0.529722 -- validation loss = 0.407623 -- validation accuracy = 0.78\n",
            "epoch: 6 -- training loss = 0.554140 -- validation loss = 0.507735 -- validation accuracy = 0.67\n",
            "epoch: 8 -- training loss = 0.537423 -- validation loss = 0.382158 -- validation accuracy = 0.83\n",
            "epoch: 10 -- training loss = 0.517976 -- validation loss = 0.492217 -- validation accuracy = 0.72\n",
            "epoch: 12 -- training loss = 0.516819 -- validation loss = 0.482650 -- validation accuracy = 0.72\n",
            "epoch: 14 -- training loss = 0.504259 -- validation loss = 0.525654 -- validation accuracy = 0.72\n",
            "epoch: 16 -- training loss = 0.542077 -- validation loss = 0.448124 -- validation accuracy = 0.83\n",
            "epoch: 18 -- training loss = 0.507583 -- validation loss = 0.452545 -- validation accuracy = 0.83\n",
            "epoch: 20 -- training loss = 0.508015 -- validation loss = 0.444004 -- validation accuracy = 0.83\n",
            "epoch: 22 -- training loss = 0.479710 -- validation loss = 0.472069 -- validation accuracy = 0.83\n",
            "epoch: 24 -- training loss = 0.471364 -- validation loss = 0.449834 -- validation accuracy = 0.67\n",
            "epoch: 26 -- training loss = 0.493448 -- validation loss = 0.440145 -- validation accuracy = 0.83\n",
            "epoch: 28 -- training loss = 0.467396 -- validation loss = 0.407782 -- validation accuracy = 0.78\n",
            "epoch: 30 -- training loss = 0.485712 -- validation loss = 0.361178 -- validation accuracy = 0.89\n",
            "epoch: 32 -- training loss = 0.515991 -- validation loss = 0.298195 -- validation accuracy = 0.94\n",
            "epoch: 34 -- training loss = 0.465545 -- validation loss = 0.435113 -- validation accuracy = 0.78\n",
            "epoch: 36 -- training loss = 0.431546 -- validation loss = 0.386311 -- validation accuracy = 0.83\n",
            "epoch: 38 -- training loss = 0.427131 -- validation loss = 0.453646 -- validation accuracy = 0.83\n",
            "epoch: 40 -- training loss = 0.471833 -- validation loss = 0.396315 -- validation accuracy = 0.89\n",
            "epoch: 42 -- training loss = 0.434364 -- validation loss = 0.415761 -- validation accuracy = 0.89\n",
            "epoch: 44 -- training loss = 0.400194 -- validation loss = 0.361383 -- validation accuracy = 0.89\n",
            "epoch: 46 -- training loss = 0.417586 -- validation loss = 0.216071 -- validation accuracy = 0.94\n",
            "epoch: 48 -- training loss = 0.381932 -- validation loss = 0.256234 -- validation accuracy = 0.89\n",
            "epoch: 50 -- training loss = 0.441582 -- validation loss = 0.262299 -- validation accuracy = 0.89\n",
            "epoch: 52 -- training loss = 0.402728 -- validation loss = 0.406987 -- validation accuracy = 0.94\n",
            "epoch: 54 -- training loss = 0.392370 -- validation loss = 0.254694 -- validation accuracy = 1.00\n",
            "epoch: 56 -- training loss = 0.353426 -- validation loss = 0.286195 -- validation accuracy = 0.94\n",
            "epoch: 58 -- training loss = 0.361741 -- validation loss = 0.290927 -- validation accuracy = 0.94\n",
            "epoch: 60 -- training loss = 0.374607 -- validation loss = 0.221755 -- validation accuracy = 1.00\n",
            "epoch: 62 -- training loss = 0.367936 -- validation loss = 0.217276 -- validation accuracy = 0.94\n",
            "epoch: 64 -- training loss = 0.346631 -- validation loss = 0.262741 -- validation accuracy = 0.94\n",
            "epoch: 66 -- training loss = 0.383895 -- validation loss = 0.131022 -- validation accuracy = 1.00\n",
            "epoch: 68 -- training loss = 0.326553 -- validation loss = 0.214895 -- validation accuracy = 0.94\n",
            "epoch: 70 -- training loss = 0.369576 -- validation loss = 0.261561 -- validation accuracy = 0.94\n",
            "epoch: 72 -- training loss = 0.300227 -- validation loss = 0.120490 -- validation accuracy = 1.00\n",
            "epoch: 74 -- training loss = 0.392956 -- validation loss = 0.177643 -- validation accuracy = 1.00\n",
            "epoch: 76 -- training loss = 0.322949 -- validation loss = 0.274167 -- validation accuracy = 0.94\n",
            "epoch: 78 -- training loss = 0.311533 -- validation loss = 0.296669 -- validation accuracy = 0.89\n",
            "epoch: 80 -- training loss = 0.338554 -- validation loss = 0.237936 -- validation accuracy = 0.94\n",
            "epoch: 82 -- training loss = 0.313818 -- validation loss = 0.192519 -- validation accuracy = 0.94\n",
            "epoch: 84 -- training loss = 0.268777 -- validation loss = 0.157968 -- validation accuracy = 1.00\n",
            "epoch: 86 -- training loss = 0.283377 -- validation loss = 0.149244 -- validation accuracy = 1.00\n",
            "epoch: 88 -- training loss = 0.266562 -- validation loss = 0.162295 -- validation accuracy = 0.94\n",
            "epoch: 90 -- training loss = 0.293202 -- validation loss = 0.192050 -- validation accuracy = 0.89\n",
            "epoch: 92 -- training loss = 0.272892 -- validation loss = 0.067176 -- validation accuracy = 1.00\n",
            "epoch: 94 -- training loss = 0.291698 -- validation loss = 0.129486 -- validation accuracy = 1.00\n",
            "epoch: 96 -- training loss = 0.243999 -- validation loss = 0.084260 -- validation accuracy = 1.00\n",
            "epoch: 98 -- training loss = 0.301723 -- validation loss = 0.185470 -- validation accuracy = 0.94\n",
            "epoch: 100 -- training loss = 0.209412 -- validation loss = 0.400824 -- validation accuracy = 0.94\n"
          ]
        }
      ],
      "source": [
        "if train_net:\n",
        "    \n",
        "    epoch = 0\n",
        "    _accuracy = 0.0\n",
        "    _mean_train_loss = 0.0\n",
        "    _mean_val_loss = -1.0\n",
        "    \n",
        "    while _mean_val_loss < 1.4 * _mean_train_loss and epoch < n_epochs:\n",
        "\n",
        "        train_data, validation_data = torch.utils.data.random_split(torch_dataset, [n_train_data, n_validation_data])\n",
        "\n",
        "        train_dataset = torch.utils.data.DataLoader(train_data, batch_size, drop_last=False)\n",
        "        validation_dataset = torch.utils.data.DataLoader(validation_data, batch_size, drop_last=False)\n",
        "\n",
        "        train_loss = []\n",
        "\n",
        "        net.train()\n",
        "\n",
        "        for i, (input_data, target_data) in enumerate(train_dataset):\n",
        "\n",
        "            optimizer.zero_grad()\n",
        "\n",
        "            output_data = net(input_data)\n",
        "            \n",
        "            _loss = loss_function(output_data, target_data)\n",
        "\n",
        "            _loss.backward()\n",
        "\n",
        "            optimizer.step()\n",
        "\n",
        "            train_loss.append(_loss.item())\n",
        "        \n",
        "        _mean_train_loss = np.mean(train_loss)\n",
        "        \n",
        "        gathered_loss['training'].append(_mean_train_loss)\n",
        "\n",
        "        validation_loss = []\n",
        "\n",
        "        net.eval()\n",
        "\n",
        "        with torch.no_grad():\n",
        "\n",
        "            for (input_data, target_data) in validation_dataset:\n",
        "\n",
        "                optimizer.zero_grad()\n",
        "\n",
        "                output_data = net(input_data)\n",
        "\n",
        "                _loss = loss_function(output_data, target_data)\n",
        "                \n",
        "                validation_loss.append(_loss.item())\n",
        "    \n",
        "        _accuracy = calc_accuracy(net, validation_dataset, 2)\n",
        "        _mean_val_loss = np.mean(validation_loss)\n",
        "        \n",
        "        gathered_loss[\"validation\"].append(_mean_val_loss)\n",
        "        gathered_loss[\"accuracy\"].append(_accuracy)\n",
        "        \n",
        "        epoch +=1 \n",
        "\n",
        "        if epoch % 2 == 0:\n",
        "            print(f\"epoch: {epoch} -- training loss = {gathered_loss['training'][-1]:.6f}\" +\\\n",
        "                  f\" -- validation loss = {gathered_loss['validation'][-1]:.6f}\" +\\\n",
        "                  f\" -- validation accuracy = {gathered_loss['accuracy'][-1]:.2f}\")"
      ]
    },
    {
      "cell_type": "code",
      "execution_count": 19,
      "metadata": {
        "id": "mNFwFHN56KhT"
      },
      "outputs": [],
      "source": [
        "if save_net:\n",
        "    torch.save(net.state_dict(), \"./protein_classifier.pth\")\n",
        "\n",
        "    with open('./protein_classifier_loss.pickle', 'wb') as handle:\n",
        "        pickle.dump(gathered_loss, handle, protocol=pickle.HIGHEST_PROTOCOL)"
      ]
    },
    {
      "cell_type": "code",
      "execution_count": 23,
      "metadata": {
        "id": "MyNlFjBw6KhU",
        "colab": {
          "base_uri": "https://localhost:8080/"
        },
        "outputId": "f9ab7e45-d0ab-4356-9a4f-c7e70e28e11d"
      },
      "outputs": [
        {
          "output_type": "stream",
          "name": "stdout",
          "text": [
            "Downloading network weights...\n"
          ]
        }
      ],
      "source": [
        "if load_net:\n",
        "    print(\"Downloading network weights...\")\n",
        "\n",
        "    urllib.request.urlretrieve('https://ftp.mi.fu-berlin.de/pub/cmb-data/mohsen_data/protein_classifier.pth',\n",
        "                                './protein_classifier.pth')\n",
        "    \n",
        "    urllib.request.urlretrieve('https://ftp.mi.fu-berlin.de/pub/cmb-data/mohsen_data/protein_classifier_loss.pickle',\n",
        "                                './protein_classifier_loss.pickle')\n",
        "            \n",
        "    net.load_state_dict(torch.load(\"./protein_classifier.pth\"))\n",
        "\n",
        "    with open('./protein_classifier_loss.pickle', 'rb') as handle:\n",
        "        gathered_loss = pickle.load(handle)"
      ]
    },
    {
      "cell_type": "markdown",
      "metadata": {
        "id": "ZpcGcplc6KhU"
      },
      "source": [
        "### The behavior of training and validation loss as well as validation accuracy\n",
        "\n",
        "Pay attention to the eventual saturation of the training and the start of over-fitting"
      ]
    },
    {
      "cell_type": "code",
      "execution_count": 21,
      "metadata": {
        "id": "M2Bm5VQG6KhU",
        "outputId": "8bc3ca95-2b45-4f16-ce0b-f78dbb8802c3",
        "colab": {
          "base_uri": "https://localhost:8080/",
          "height": 558
        }
      },
      "outputs": [
        {
          "output_type": "execute_result",
          "data": {
            "text/plain": [
              "<matplotlib.legend.Legend at 0x7f6528428700>"
            ]
          },
          "metadata": {},
          "execution_count": 21
        },
        {
          "output_type": "display_data",
          "data": {
            "text/plain": [
              "<Figure size 432x288 with 1 Axes>"
            ],
            "image/png": "[encoded data removed]"
          },
          "metadata": {
            "needs_background": "light"
          }
        },
        {
          "output_type": "display_data",
          "data": {
            "text/plain": [
              "<Figure size 432x288 with 1 Axes>"
            ],
            "image/png": "[encoded data removed]"
          },
          "metadata": {
            "needs_background": "light"
          }
        }
      ],
      "source": [
        "plt.figure()\n",
        "\n",
        "for loss_type in ['training', 'validation']:\n",
        "    \n",
        "    _loss = gathered_loss[loss_type]\n",
        "    \n",
        "    plt.plot(np.arange(len(_loss)), _loss, label=loss_type + ' loss')\n",
        "\n",
        "plt.xlabel('epoch')\n",
        "plt.ylabel('loss')\n",
        "plt.legend()\n",
        "\n",
        "plt.figure()\n",
        "\n",
        "_accuracy = gathered_loss[\"accuracy\"]\n",
        "\n",
        "plt.plot(np.arange(len(_accuracy)), _accuracy, label='validation accuracy')\n",
        "\n",
        "plt.xlabel('epoch')\n",
        "plt.ylabel('accuracy')\n",
        "plt.legend()"
      ]
    },
    {
      "cell_type": "code",
      "execution_count": null,
      "metadata": {
        "id": "ttpVPho7ZGkn"
      },
      "outputs": [],
      "source": []
    }
  ],
  "metadata": {
    "accelerator": "GPU",
    "colab": {
      "provenance": [],
      "include_colab_link": true
    },
    "gpuClass": "standard",
    "kernelspec": {
      "display_name": "Python 3 (ipykernel)",
      "language": "python",
      "name": "python3"
    },
    "language_info": {
      "codemirror_mode": {
        "name": "ipython",
        "version": 3
      },
      "file_extension": ".py",
      "mimetype": "text/x-python",
      "name": "python",
      "nbconvert_exporter": "python",
      "pygments_lexer": "ipython3",
      "version": "3.7.12"
    }
  },
  "nbformat": 4,
  "nbformat_minor": 0
}