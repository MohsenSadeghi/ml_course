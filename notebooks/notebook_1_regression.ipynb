{
  "nbformat": 4,
  "nbformat_minor": 0,
  "metadata": {
    "colab": {
      "provenance": [],
      "authorship_tag": "ABX9TyNjduJ59v8anfH3YKQy3KTf",
      "include_colab_link": true
    },
    "kernelspec": {
      "name": "python3",
      "display_name": "Python 3"
    },
    "language_info": {
      "name": "python"
    },
    "accelerator": "GPU",
    "gpuClass": "standard"
  },
  "cells": [
    {
      "cell_type": "markdown",
      "metadata": {
        "id": "view-in-github",
        "colab_type": "text"
      },
      "source": [
        "<a href=\"https://colab.research.google.com/github/MohsenSadeghi/ml_course/blob/main/notebooks/notebook_1_regression.ipynb\" target=\"_parent\"><img src=\"https://colab.research.google.com/assets/colab-badge.svg\" alt=\"Open In Colab\"/></a>"
      ]
    },
    {
      "cell_type": "code",
      "execution_count": 1,
      "metadata": {
        "id": "rO4l0lJhRuW1"
      },
      "outputs": [],
      "source": [
        "import numpy as np\n",
        "import matplotlib.pyplot as plt\n",
        "import torch.nn as nn\n",
        "import torch"
      ]
    },
    {
      "cell_type": "code",
      "source": [
        "print(f\"Is cuda available: {torch.cuda.is_available()}\")\n",
        "print(f\"CUDA version: {torch.version.cuda}\")\n",
        "print(f\"PyTorch version: {torch.__version__}\")\n",
        "\n",
        "print(f\"Cuda device name: {torch.cuda.get_device_name(0)}\")"
      ],
      "metadata": {
        "colab": {
          "base_uri": "https://localhost:8080/"
        },
        "id": "t5l1rX12t5qZ",
        "outputId": "e869185f-0e26-4ee9-ec67-1bdf356fa6cf"
      },
      "execution_count": 2,
      "outputs": [
        {
          "output_type": "stream",
          "name": "stdout",
          "text": [
            "Is cuda available: True\n",
            "CUDA version: 11.3\n",
            "PyTorch version: 1.12.1+cu113\n",
            "Cuda device name: Tesla T4\n"
          ]
        }
      ]
    },
    {
      "cell_type": "code",
      "source": [
        "cuda0 = torch.device('cuda:0')\n",
        "cpu0 = torch.device('cpu:0')"
      ],
      "metadata": {
        "id": "Z0GDL0YrvZUo"
      },
      "execution_count": 3,
      "outputs": []
    },
    {
      "cell_type": "code",
      "source": [
        "n_data_points = 100\n",
        "\n",
        "x = torch.linspace(0.0, 1.0, n_data_points, device=cuda0)\n",
        "noise_scale = 2.0\n",
        "\n",
        "print(x)"
      ],
      "metadata": {
        "id": "A2bbbzJsRwJZ",
        "colab": {
          "base_uri": "https://localhost:8080/"
        },
        "outputId": "1c771cc0-293f-40e3-c48e-97f0826e22d0"
      },
      "execution_count": 66,
      "outputs": [
        {
          "output_type": "stream",
          "name": "stdout",
          "text": [
            "tensor([0.0000, 0.0101, 0.0202, 0.0303, 0.0404, 0.0505, 0.0606, 0.0707, 0.0808,\n",
            "        0.0909, 0.1010, 0.1111, 0.1212, 0.1313, 0.1414, 0.1515, 0.1616, 0.1717,\n",
            "        0.1818, 0.1919, 0.2020, 0.2121, 0.2222, 0.2323, 0.2424, 0.2525, 0.2626,\n",
            "        0.2727, 0.2828, 0.2929, 0.3030, 0.3131, 0.3232, 0.3333, 0.3434, 0.3535,\n",
            "        0.3636, 0.3737, 0.3838, 0.3939, 0.4040, 0.4141, 0.4242, 0.4343, 0.4444,\n",
            "        0.4545, 0.4646, 0.4747, 0.4848, 0.4949, 0.5051, 0.5152, 0.5253, 0.5354,\n",
            "        0.5455, 0.5556, 0.5657, 0.5758, 0.5859, 0.5960, 0.6061, 0.6162, 0.6263,\n",
            "        0.6364, 0.6465, 0.6566, 0.6667, 0.6768, 0.6869, 0.6970, 0.7071, 0.7172,\n",
            "        0.7273, 0.7374, 0.7475, 0.7576, 0.7677, 0.7778, 0.7879, 0.7980, 0.8081,\n",
            "        0.8182, 0.8283, 0.8384, 0.8485, 0.8586, 0.8687, 0.8788, 0.8889, 0.8990,\n",
            "        0.9091, 0.9192, 0.9293, 0.9394, 0.9495, 0.9596, 0.9697, 0.9798, 0.9899,\n",
            "        1.0000], device='cuda:0')\n"
          ]
        }
      ]
    },
    {
      "cell_type": "code",
      "source": [
        "def target_function (x):\n",
        "\n",
        "  return 10.0 * torch.cos (2.0 * np.pi * x - 0.3 * np.pi)"
      ],
      "metadata": {
        "id": "zrI5j-YxR5J4"
      },
      "execution_count": 67,
      "outputs": []
    },
    {
      "cell_type": "code",
      "source": [
        "y_true = target_function (x)\n",
        "y_observed = target_function(x) + torch.normal (size=(n_data_points, ),\n",
        "                                                mean=0.0, std=noise_scale, device=cuda0)\n",
        "\n",
        "plt.figure ()\n",
        "plt.plot(x.to(cpu0), y_true.to(cpu0), 'b-', label=\"true function\")\n",
        "plt.plot(x.to(cpu0), y_observed.to(cpu0), 'r.', label=\"observed values\")\n",
        "plt.xlabel('x')\n",
        "plt.ylabel('y')\n",
        "plt.legend()"
      ],
      "metadata": {
        "colab": {
          "base_uri": "https://localhost:8080/",
          "height": 298
        },
        "id": "73rrjo3jSItW",
        "outputId": "a95b0680-2225-441d-c701-d09e267075aa"
      },
      "execution_count": 68,
      "outputs": [
        {
          "output_type": "execute_result",
          "data": {
            "text/plain": [
              "<matplotlib.legend.Legend at 0x7f665cacff90>"
            ]
          },
          "metadata": {},
          "execution_count": 68
        },
        {
          "output_type": "display_data",
          "data": {
            "text/plain": [
              "<Figure size 432x288 with 1 Axes>"
            ],
            "image/png": "[encoded data removed]"
          },
          "metadata": {
            "needs_background": "light"
          }
        }
      ]
    },
    {
      "cell_type": "code",
      "source": [
        "def model(params, x):\n",
        "\n",
        "  result = torch.tensor([0.0], device=cuda0, requires_grad=True)\n",
        "\n",
        "  for i, _p in enumerate(params):\n",
        "    result = result + _p * x ** i\n",
        "\n",
        "  return result"
      ],
      "metadata": {
        "id": "IrGPeoYQxufE"
      },
      "execution_count": 69,
      "outputs": []
    },
    {
      "cell_type": "code",
      "source": [
        "def loss_function (params, x):\n",
        "\n",
        "  y_true = target_function (x)\n",
        "  y_predicted = model (params, x)\n",
        "\n",
        "  loss = torch.mean((y_predicted - y_true) ** 2)\n",
        "\n",
        "  return loss"
      ],
      "metadata": {
        "id": "Vc6evTj8SUMQ"
      },
      "execution_count": 70,
      "outputs": []
    },
    {
      "cell_type": "code",
      "source": [
        "params = torch.tensor([1.0, -1.0], device=cuda0, requires_grad=True)\n",
        "\n",
        "print(loss_function(params, x))"
      ],
      "metadata": {
        "colab": {
          "base_uri": "https://localhost:8080/"
        },
        "id": "_Jw6K4bHxkgs",
        "outputId": "f76c3abf-7ca5-42d9-f4fc-1a7b5730112a"
      },
      "execution_count": 71,
      "outputs": [
        {
          "output_type": "stream",
          "name": "stdout",
          "text": [
            "tensor(47.5732, device='cuda:0', grad_fn=<MeanBackward0>)\n"
          ]
        }
      ]
    },
    {
      "cell_type": "code",
      "source": [
        "gradients = torch.autograd.grad(outputs=loss_function(params, x), inputs=params)\n",
        "print(gradients)"
      ],
      "metadata": {
        "colab": {
          "base_uri": "https://localhost:8080/"
        },
        "id": "BFFeHAuWyagm",
        "outputId": "355ab04a-0a87-435d-f7f2-dd49687d1713"
      },
      "execution_count": 72,
      "outputs": [
        {
          "output_type": "stream",
          "name": "stdout",
          "text": [
            "(tensor([0.8824, 2.8198], device='cuda:0'),)\n"
          ]
        }
      ]
    },
    {
      "cell_type": "code",
      "source": [
        "loss = loss_function(params, x)\n",
        "\n",
        "loss.backward()"
      ],
      "metadata": {
        "id": "jU5c9JNmyxn3"
      },
      "execution_count": 73,
      "outputs": []
    },
    {
      "cell_type": "code",
      "source": [
        "print(params.grad)"
      ],
      "metadata": {
        "colab": {
          "base_uri": "https://localhost:8080/"
        },
        "id": "Z5bjoKRT3N_Z",
        "outputId": "fa8a54b3-4360-40a0-e6aa-c0627401e57d"
      },
      "execution_count": 74,
      "outputs": [
        {
          "output_type": "stream",
          "name": "stdout",
          "text": [
            "tensor([0.8824, 2.8198], device='cuda:0')\n"
          ]
        }
      ]
    },
    {
      "cell_type": "code",
      "source": [
        "p0 = [10.0, -10.0, 5.0, -5.0, 1.0, 1.0]\n",
        "\n",
        "params = torch.tensor(p0, device=cuda0, requires_grad=True)\n",
        "learning_rate = torch.tensor([0.1], device=cuda0)\n",
        "\n",
        "running_loss = []\n",
        "\n",
        "for i in range(2000):\n",
        "  \n",
        "  loss = loss_function(params, x)\n",
        "  loss.backward ()\n",
        "\n",
        "  params.data = params.data - learning_rate * params.grad.data\n",
        "  params.grad.data.zero_()\n",
        "\n",
        "  loss_value = loss.item()\n",
        "  \n",
        "  running_loss.append(loss_value)\n",
        "  \n",
        "  if i % 100 == 0:\n",
        "    print(f\"iteration: {i} --- current loss value = {loss_value: .2f}\")\n"
      ],
      "metadata": {
        "colab": {
          "base_uri": "https://localhost:8080/"
        },
        "id": "8WeoRx5p1ffl",
        "outputId": "4cc15556-145f-47d8-e708-4b44ea00f031"
      },
      "execution_count": 117,
      "outputs": [
        {
          "output_type": "stream",
          "name": "stdout",
          "text": [
            "iteration: 0 --- current loss value =  67.17\n",
            "iteration: 100 --- current loss value =  19.59\n",
            "iteration: 200 --- current loss value =  13.03\n",
            "iteration: 300 --- current loss value =  9.67\n",
            "iteration: 400 --- current loss value =  7.94\n",
            "iteration: 500 --- current loss value =  7.04\n",
            "iteration: 600 --- current loss value =  6.56\n",
            "iteration: 700 --- current loss value =  6.29\n",
            "iteration: 800 --- current loss value =  6.13\n",
            "iteration: 900 --- current loss value =  6.03\n",
            "iteration: 1000 --- current loss value =  5.96\n",
            "iteration: 1100 --- current loss value =  5.90\n",
            "iteration: 1200 --- current loss value =  5.85\n",
            "iteration: 1300 --- current loss value =  5.81\n",
            "iteration: 1400 --- current loss value =  5.76\n",
            "iteration: 1500 --- current loss value =  5.72\n",
            "iteration: 1600 --- current loss value =  5.68\n",
            "iteration: 1700 --- current loss value =  5.65\n",
            "iteration: 1800 --- current loss value =  5.61\n",
            "iteration: 1900 --- current loss value =  5.57\n"
          ]
        }
      ]
    },
    {
      "cell_type": "code",
      "source": [
        "plt.figure()\n",
        "plt.plot(running_loss)"
      ],
      "metadata": {
        "colab": {
          "base_uri": "https://localhost:8080/",
          "height": 286
        },
        "id": "p8C-Lrhs2DPe",
        "outputId": "9d8f19f7-c581-4e4e-fb37-10d4e737785b"
      },
      "execution_count": 118,
      "outputs": [
        {
          "output_type": "execute_result",
          "data": {
            "text/plain": [
              "[<matplotlib.lines.Line2D at 0x7f665c0dba90>]"
            ]
          },
          "metadata": {},
          "execution_count": 118
        },
        {
          "output_type": "display_data",
          "data": {
            "text/plain": [
              "<Figure size 432x288 with 1 Axes>"
            ],
            "image/png": "[encoded data removed]"
          },
          "metadata": {
            "needs_background": "light"
          }
        }
      ]
    },
    {
      "cell_type": "code",
      "source": [
        "def display_prediction (params):\n",
        "  y_predicted = model(params.data, x).clone().detach()\n",
        "\n",
        "  plt.figure ()\n",
        "  plt.plot(x.to(cpu0), y_true.to(cpu0), 'b-', label=\"true function\")\n",
        "  plt.plot(x.to(cpu0), y_observed.to(cpu0), 'r.', label=\"observed values\")\n",
        "  plt.plot(x.to(cpu0), y_predicted.to(cpu0), 'g-', label=\"predicted function\")\n",
        "  plt.xlabel('x')\n",
        "  plt.ylabel('y')\n",
        "  plt.legend()"
      ],
      "metadata": {
        "id": "ALxRuZiMKUKv"
      },
      "execution_count": 119,
      "outputs": []
    },
    {
      "cell_type": "code",
      "source": [
        "display_prediction (params)"
      ],
      "metadata": {
        "colab": {
          "base_uri": "https://localhost:8080/",
          "height": 281
        },
        "id": "TfatTzkiY6tT",
        "outputId": "8cc0d1e7-7577-4334-c11a-112becdd5c26"
      },
      "execution_count": 120,
      "outputs": [
        {
          "output_type": "display_data",
          "data": {
            "text/plain": [
              "<Figure size 432x288 with 1 Axes>"
            ],
            "image/png": "[encoded data removed]"
          },
          "metadata": {
            "needs_background": "light"
          }
        }
      ]
    },
    {
      "cell_type": "code",
      "source": [
        "params = torch.tensor(p0, device=cuda0, requires_grad=True)\n",
        "\n",
        "learning_rate = 0.1\n",
        "\n",
        "optimizer = torch.optim.Adam([{'params': params}], lr=learning_rate)\n",
        "\n",
        "running_loss = []\n",
        "\n",
        "for i in range(2000):\n",
        "  \n",
        "  optimizer.zero_grad()\n",
        "  \n",
        "  loss = loss_function(params, x)\n",
        "  loss.backward()\n",
        "  \n",
        "  optimizer.step()\n",
        "  \n",
        "  loss_value = loss.item()\n",
        "  \n",
        "  running_loss.append(loss_value)\n",
        "  \n",
        "  if i % 100 == 0:\n",
        "    print(f\"iteration: {i} --- current loss value = {loss_value: .2f}\")"
      ],
      "metadata": {
        "colab": {
          "base_uri": "https://localhost:8080/"
        },
        "id": "NO9bF3Sz4nGD",
        "outputId": "fdba1d7f-b158-4226-dd2c-8c73b35dda16"
      },
      "execution_count": 121,
      "outputs": [
        {
          "output_type": "stream",
          "name": "stdout",
          "text": [
            "iteration: 0 --- current loss value =  67.17\n",
            "iteration: 100 --- current loss value =  23.00\n",
            "iteration: 200 --- current loss value =  15.34\n",
            "iteration: 300 --- current loss value =  10.19\n",
            "iteration: 400 --- current loss value =  7.38\n",
            "iteration: 500 --- current loss value =  6.06\n",
            "iteration: 600 --- current loss value =  5.52\n",
            "iteration: 700 --- current loss value =  5.30\n",
            "iteration: 800 --- current loss value =  5.19\n",
            "iteration: 900 --- current loss value =  5.12\n",
            "iteration: 1000 --- current loss value =  5.06\n",
            "iteration: 1100 --- current loss value =  4.99\n",
            "iteration: 1200 --- current loss value =  4.93\n",
            "iteration: 1300 --- current loss value =  4.87\n",
            "iteration: 1400 --- current loss value =  4.81\n",
            "iteration: 1500 --- current loss value =  4.75\n",
            "iteration: 1600 --- current loss value =  4.69\n",
            "iteration: 1700 --- current loss value =  4.63\n",
            "iteration: 1800 --- current loss value =  4.58\n",
            "iteration: 1900 --- current loss value =  4.53\n"
          ]
        }
      ]
    },
    {
      "cell_type": "code",
      "source": [
        "plt.figure()\n",
        "plt.plot(running_loss)\n",
        "\n",
        "display_prediction (params)"
      ],
      "metadata": {
        "colab": {
          "base_uri": "https://localhost:8080/",
          "height": 532
        },
        "id": "67O8KcQJ93ap",
        "outputId": "0ed1bd67-a4a4-4d5b-aad8-0e2d9d3ac027"
      },
      "execution_count": 122,
      "outputs": [
        {
          "output_type": "display_data",
          "data": {
            "text/plain": [
              "<Figure size 432x288 with 1 Axes>"
            ],
            "image/png": "[encoded data removed]"
          },
          "metadata": {
            "needs_background": "light"
          }
        },
        {
          "output_type": "display_data",
          "data": {
            "text/plain": [
              "<Figure size 432x288 with 1 Axes>"
            ],
            "image/png": "[encoded data removed]"
          },
          "metadata": {
            "needs_background": "light"
          }
        }
      ]
    },
    {
      "cell_type": "code",
      "source": [],
      "metadata": {
        "id": "ttpVPho7ZGkn"
      },
      "execution_count": null,
      "outputs": []
    }
  ]
}