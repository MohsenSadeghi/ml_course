{
  "nbformat": 4,
  "nbformat_minor": 0,
  "metadata": {
    "colab": {
      "provenance": [],
      "authorship_tag": "ABX9TyNoxr0JFHud8ea4o5iF5RZ2",
      "include_colab_link": true
    },
    "kernelspec": {
      "name": "python3",
      "display_name": "Python 3"
    },
    "language_info": {
      "name": "python"
    }
  },
  "cells": [
    {
      "cell_type": "markdown",
      "metadata": {
        "id": "view-in-github",
        "colab_type": "text"
      },
      "source": [
        "<a href=\"https://colab.research.google.com/github/MohsenSadeghi/ml_course/blob/main/notebooks/notebook_1_regression.ipynb\" target=\"_parent\"><img src=\"https://colab.research.google.com/assets/colab-badge.svg\" alt=\"Open In Colab\"/></a>"
      ]
    },
    {
      "cell_type": "code",
      "execution_count": null,
      "metadata": {
        "id": "rO4l0lJhRuW1"
      },
      "outputs": [],
      "source": [
        "import numpy as np\n",
        "import matplotlib.pyplot as plt"
      ]
    },
    {
      "cell_type": "code",
      "source": [
        "x = np.linspace(0.0, 1.0, 200)\n",
        "noise_scale = 5.0"
      ],
      "metadata": {
        "id": "A2bbbzJsRwJZ"
      },
      "execution_count": null,
      "outputs": []
    },
    {
      "cell_type": "code",
      "source": [
        "def target_function (x):\n",
        "\n",
        "  return 10.0 * np.cos (2.0 * np.pi * x - 0.3 * np.pi)"
      ],
      "metadata": {
        "id": "zrI5j-YxR5J4"
      },
      "execution_count": null,
      "outputs": []
    },
    {
      "cell_type": "code",
      "source": [
        "y_true = target_function (x)\n",
        "y_observed = target_function(x) + np.random.normal (size=len(x), scale=noise_scale)\n",
        "\n",
        "plt.figure ()\n",
        "plt.plot(x, y_true, 'b-', label=\"true values\")\n",
        "plt.plot(x, y_observed, 'r.', label=\"observed values\")\n",
        "plt.xlabel('x')\n",
        "plt.ylabel('y')\n",
        "plt.legend()"
      ],
      "metadata": {
        "colab": {
          "base_uri": "https://localhost:8080/",
          "height": 296
        },
        "id": "73rrjo3jSItW",
        "outputId": "0171fdfc-37c0-45a3-9e56-49b076b1ff84"
      },
      "execution_count": null,
      "outputs": [
        {
          "output_type": "execute_result",
          "data": {
            "text/plain": [
              "<matplotlib.legend.Legend at 0x7f1ee68d6a90>"
            ]
          },
          "metadata": {},
          "execution_count": 13
        },
        {
          "output_type": "display_data",
          "data": {
            "text/plain": [
              "<Figure size 432x288 with 1 Axes>"
            ],
            "image/png": "[encoded data removed]"
          },
          "metadata": {
            "needs_background": "light"
          }
        }
      ]
    },
    {
      "cell_type": "code",
      "source": [],
      "metadata": {
        "id": "Vc6evTj8SUMQ"
      },
      "execution_count": null,
      "outputs": []
    }
  ]
}