{
  "nbformat": 4,
  "nbformat_minor": 0,
  "metadata": {
    "colab": {
      "provenance": [],
      "authorship_tag": "ABX9TyNW3SJatAtOecKakFAhPCZ2",
      "include_colab_link": true
    },
    "kernelspec": {
      "name": "python3",
      "display_name": "Python 3"
    },
    "language_info": {
      "name": "python"
    },
    "accelerator": "GPU",
    "gpuClass": "standard"
  },
  "cells": [
    {
      "cell_type": "markdown",
      "metadata": {
        "id": "view-in-github",
        "colab_type": "text"
      },
      "source": [
        "<a href=\"https://colab.research.google.com/github/MohsenSadeghi/ml_course/blob/main/notebooks/notebook_1_regression.ipynb\" target=\"_parent\"><img src=\"https://colab.research.google.com/assets/colab-badge.svg\" alt=\"Open In Colab\"/></a>"
      ]
    },
    {
      "cell_type": "code",
      "execution_count": 1,
      "metadata": {
        "id": "rO4l0lJhRuW1"
      },
      "outputs": [],
      "source": [
        "import numpy as np\n",
        "import matplotlib.pyplot as plt\n",
        "import torch.nn as nn\n",
        "import torch"
      ]
    },
    {
      "cell_type": "code",
      "source": [
        "print(f\"Is CUDA available: {torch.cuda.is_available()}\")\n",
        "print(f\"CUDA version: {torch.version.cuda}\")\n",
        "print(f\"PyTorch version: {torch.__version__}\")\n",
        "\n",
        "print(f\"CUDA device name: {torch.cuda.get_device_name(0)}\")\n",
        "\n",
        "cuda0 = torch.device('cuda:0')\n",
        "cpu0 = torch.device('cpu:0')"
      ],
      "metadata": {
        "colab": {
          "base_uri": "https://localhost:8080/"
        },
        "id": "t5l1rX12t5qZ",
        "outputId": "551db904-a615-4db4-fbab-427f1e0a1dae"
      },
      "execution_count": 2,
      "outputs": [
        {
          "output_type": "stream",
          "name": "stdout",
          "text": [
            "Is CUDA available: True\n",
            "CUDA version: 11.6\n",
            "PyTorch version: 1.13.0+cu116\n",
            "CUDA device name: Tesla T4\n"
          ]
        }
      ]
    },
    {
      "cell_type": "markdown",
      "source": [
        "### We want to fit a polynomial to some data points. \n",
        "\n",
        "The parameter ```n_data_points``` controls the number of these points.<br/>\n",
        "The parameter $\\sigma$ (```noise_scale```) is the magnitude of inherent noise added to the $\\overline{y}$ values.  "
      ],
      "metadata": {
        "id": "ogchurvRCfHE"
      }
    },
    {
      "cell_type": "code",
      "source": [
        "n_data_points = 100\n",
        "n_validation_points = 20\n",
        "noise_scale = 2.0\n",
        "\n",
        "validation_points_indices = np.random.randint(0, n_data_points - 1, n_validation_points)\n",
        "mask = np.zeros(n_data_points, dtype=bool)\n",
        "mask[validation_points_indices] = True\n",
        "mask = torch.tensor(mask)\n",
        "\n",
        "x = torch.linspace(-1.0, 1.0, n_data_points, device=cuda0)\n",
        "\n",
        "x_training = x[torch.logical_not(mask)]\n",
        "x_validation = x[mask]\n",
        "\n",
        "print(len(x_training), len(x_validation))"
      ],
      "metadata": {
        "id": "A2bbbzJsRwJZ",
        "colab": {
          "base_uri": "https://localhost:8080/"
        },
        "outputId": "17a5478e-9dfa-405a-bdb9-8c443da24067"
      },
      "execution_count": 3,
      "outputs": [
        {
          "output_type": "stream",
          "name": "stdout",
          "text": [
            "81 19\n"
          ]
        }
      ]
    },
    {
      "cell_type": "markdown",
      "source": [
        "### This is the target function that we use to generate $\\left(\\overline{x}_i, \\overline{y}_i\\right)$ pairs as $\\overline{y}_i=f\\left(\\overline{x}_i\\right) + \\epsilon$ where $\\epsilon\\sim\\mathcal{N}\\left(0, \\sigma^2\\right)$."
      ],
      "metadata": {
        "id": "3PHgbFxWDSIx"
      }
    },
    {
      "cell_type": "code",
      "source": [
        "def target_function (x):\n",
        "\n",
        "    return 10.0 * torch.cos (np.pi * x - 0.3 * np.pi)"
      ],
      "metadata": {
        "id": "zrI5j-YxR5J4"
      },
      "execution_count": 4,
      "outputs": []
    },
    {
      "cell_type": "code",
      "source": [
        "y_true = target_function (x)\n",
        "\n",
        "y_observed = target_function(x) + torch.normal (size=(n_data_points, ),\n",
        "                                                mean=0.0, std=noise_scale, device=cuda0)\n",
        "\n",
        "y_training = y_observed[torch.logical_not(mask)]\n",
        "y_validation = y_observed[mask]\n",
        "\n",
        "plt.figure ()\n",
        "plt.plot(x.to(cpu0), y_true.to(cpu0), 'b-', label=\"original function\")\n",
        "plt.plot(x_training.to(cpu0), y_training.to(cpu0), 'r.', label=\"training data\")\n",
        "plt.plot(x_validation.to(cpu0), y_validation.to(cpu0), 'go', label=\"validation data\")\n",
        "plt.xlabel('x')\n",
        "plt.ylabel('y')\n",
        "plt.legend()"
      ],
      "metadata": {
        "colab": {
          "base_uri": "https://localhost:8080/",
          "height": 296
        },
        "id": "73rrjo3jSItW",
        "outputId": "ad6b1eec-e8b2-456e-f914-dc9f66baf3d2"
      },
      "execution_count": 5,
      "outputs": [
        {
          "output_type": "execute_result",
          "data": {
            "text/plain": [
              "<matplotlib.legend.Legend at 0x7fa93721b790>"
            ]
          },
          "metadata": {},
          "execution_count": 5
        },
        {
          "output_type": "display_data",
          "data": {
            "text/plain": [
              "<Figure size 432x288 with 1 Axes>"
            ],
            "image/png": "[encoded data removed]"
          },
          "metadata": {
            "needs_background": "light"
          }
        }
      ]
    },
    {
      "cell_type": "markdown",
      "source": [
        "### This is our parametrized model\n",
        "\n",
        "which in this case is simply a polynomial of arbitrary degree (length of ```params``` determines the polynomial degree). "
      ],
      "metadata": {
        "id": "CrK8lab5EDEm"
      }
    },
    {
      "cell_type": "code",
      "source": [
        "def model(params, x):\n",
        "\n",
        "    result = torch.tensor([0.0], device=cuda0, requires_grad=True)\n",
        "    exponent = torch.tensor([0], device=cuda0)\n",
        "\n",
        "    for i, _p in enumerate(params):\n",
        "        result = result + _p * torch.pow(x, exponent)\n",
        "        exponent = exponent + 1\n",
        "\n",
        "    return result"
      ],
      "metadata": {
        "id": "IrGPeoYQxufE"
      },
      "execution_count": 6,
      "outputs": []
    },
    {
      "cell_type": "markdown",
      "source": [
        "### This is the Loss function\n",
        "\n",
        "which simply is the mean squared error (MSE) between true and predicted values of the function."
      ],
      "metadata": {
        "id": "PvKYYBF2EVuc"
      }
    },
    {
      "cell_type": "code",
      "source": [
        "def loss_function (params, x, y_true):\n",
        "\n",
        "    y_predicted = model (params, x)\n",
        "\n",
        "    loss = torch.mean((y_predicted - y_true) ** 2)\n",
        "\n",
        "    return loss"
      ],
      "metadata": {
        "id": "Vc6evTj8SUMQ"
      },
      "execution_count": 7,
      "outputs": []
    },
    {
      "cell_type": "code",
      "source": [
        "params = torch.tensor([1.0, -1.0], device=cuda0, requires_grad=True)\n",
        "\n",
        "print(loss_function(params, x_validation, y_validation))"
      ],
      "metadata": {
        "colab": {
          "base_uri": "https://localhost:8080/"
        },
        "id": "_Jw6K4bHxkgs",
        "outputId": "50fa9217-a57b-43e9-c7bd-87a3852e4479"
      },
      "execution_count": 8,
      "outputs": [
        {
          "output_type": "stream",
          "name": "stdout",
          "text": [
            "tensor(51.5666, device='cuda:0', grad_fn=<MeanBackward0>)\n"
          ]
        }
      ]
    },
    {
      "cell_type": "markdown",
      "source": [
        "### The PyTorch autograd functionality can track our loss function and find its gradients with respect to the model parameters"
      ],
      "metadata": {
        "id": "YIKFIV2cEsjT"
      }
    },
    {
      "cell_type": "code",
      "source": [
        "gradients = torch.autograd.grad(outputs=loss_function(params, x_training, y_training), inputs=params)\n",
        "print(gradients)"
      ],
      "metadata": {
        "colab": {
          "base_uri": "https://localhost:8080/"
        },
        "id": "BFFeHAuWyagm",
        "outputId": "5e298ba2-25e1-4526-e21b-e563690c94bd"
      },
      "execution_count": 9,
      "outputs": [
        {
          "output_type": "stream",
          "name": "stdout",
          "text": [
            "(tensor([ 2.3563, -6.2134], device='cuda:0'),)\n"
          ]
        }
      ]
    },
    {
      "cell_type": "markdown",
      "source": [
        "### The same functionality is achieved with the ```loss.backward()``` command:"
      ],
      "metadata": {
        "id": "FNG6D9MRFB3f"
      }
    },
    {
      "cell_type": "code",
      "source": [
        "if params.grad is not None:\n",
        "    params.grad.data.zero_()\n",
        "\n",
        "loss = loss_function(params, x_training, y_training)\n",
        "\n",
        "loss.backward()\n",
        "\n",
        "print(params.grad)"
      ],
      "metadata": {
        "id": "jU5c9JNmyxn3",
        "colab": {
          "base_uri": "https://localhost:8080/"
        },
        "outputId": "ba996786-2e90-4a77-85db-6b9733fd5c7d"
      },
      "execution_count": 10,
      "outputs": [
        {
          "output_type": "stream",
          "name": "stdout",
          "text": [
            "tensor([ 2.3563, -6.2134], device='cuda:0')\n"
          ]
        }
      ]
    },
    {
      "cell_type": "markdown",
      "source": [
        "### Getting things ready for the training loop\n",
        "\n",
        "The list ```p0``` is the initial value of the trainable parameters of the model. You can change the number of elements in ```p0``` to change the order of the polynomial being used by the model. "
      ],
      "metadata": {
        "id": "8ZJ-zyEuxZZo"
      }
    },
    {
      "cell_type": "code",
      "source": [
        "deg = 4\n",
        "\n",
        "p0 = np.zeros(deg)\n",
        "\n",
        "params = torch.tensor(p0, device=cuda0, requires_grad=True)\n",
        "learning_rate = torch.tensor([0.1], device=cuda0)\n",
        "batch_size = 32\n",
        "\n",
        "gathered_loss = {'training': [], 'validation':[]}"
      ],
      "metadata": {
        "id": "8WeoRx5p1ffl"
      },
      "execution_count": 11,
      "outputs": []
    },
    {
      "cell_type": "code",
      "source": [
        "for i in range(1000):\n",
        "\n",
        "    for batch_x_training, batch_y_trainig in zip(torch.split(x_training, batch_size),\n",
        "                                                 torch.split(y_training, batch_size)):\n",
        "\n",
        "        if params.grad is not None:\n",
        "            params.grad.data.zero_()\n",
        "            \n",
        "        loss = loss_function(params, x_training, y_training)\n",
        "        loss.backward ()\n",
        "\n",
        "        params.data = params.data - learning_rate * params.grad.data\n",
        "\n",
        "    training_loss = loss_function(params, x_training, y_training).item()\n",
        "    validation_loss = loss_function(params, x_validation, y_validation).item()\n",
        "    \n",
        "    gathered_loss['training'].append(training_loss)\n",
        "    gathered_loss['validation'].append(validation_loss)\n",
        "    \n",
        "    if i % 100 == 0:\n",
        "        print(f\"epoch: {i} --- current training loss value = {training_loss: .3f} --- current validation loss value = {validation_loss: .3f} \")"
      ],
      "metadata": {
        "colab": {
          "base_uri": "https://localhost:8080/"
        },
        "id": "vOmz_ephGzex",
        "outputId": "f8b057b0-b4d7-4a84-b28a-2a262f6e5cd6"
      },
      "execution_count": 12,
      "outputs": [
        {
          "output_type": "stream",
          "name": "stdout",
          "text": [
            "epoch: 0 --- current training loss value =  46.476 --- current validation loss value =  40.037 \n",
            "epoch: 100 --- current training loss value =  8.076 --- current validation loss value =  4.030 \n",
            "epoch: 200 --- current training loss value =  6.043 --- current validation loss value =  3.343 \n",
            "epoch: 300 --- current training loss value =  5.787 --- current validation loss value =  3.601 \n",
            "epoch: 400 --- current training loss value =  5.755 --- current validation loss value =  3.756 \n",
            "epoch: 500 --- current training loss value =  5.751 --- current validation loss value =  3.819 \n",
            "epoch: 600 --- current training loss value =  5.750 --- current validation loss value =  3.842 \n",
            "epoch: 700 --- current training loss value =  5.750 --- current validation loss value =  3.851 \n",
            "epoch: 800 --- current training loss value =  5.750 --- current validation loss value =  3.854 \n",
            "epoch: 900 --- current training loss value =  5.750 --- current validation loss value =  3.855 \n"
          ]
        }
      ]
    },
    {
      "cell_type": "code",
      "source": [
        "plt.figure()\n",
        "\n",
        "for loss_type in ['training', 'validation']:\n",
        "    \n",
        "    _loss = gathered_loss[loss_type]\n",
        "    \n",
        "    plt.plot(np.arange(len(_loss)), _loss, label=loss_type + ' loss')\n",
        "\n",
        "plt.xlabel('epoch')\n",
        "plt.ylabel('loss')\n",
        "plt.legend()"
      ],
      "metadata": {
        "colab": {
          "base_uri": "https://localhost:8080/",
          "height": 296
        },
        "id": "p8C-Lrhs2DPe",
        "outputId": "198c4185-6b77-49da-aa6d-b2c2cf652861"
      },
      "execution_count": 13,
      "outputs": [
        {
          "output_type": "execute_result",
          "data": {
            "text/plain": [
              "<matplotlib.legend.Legend at 0x7fa930075f40>"
            ]
          },
          "metadata": {},
          "execution_count": 13
        },
        {
          "output_type": "display_data",
          "data": {
            "text/plain": [
              "<Figure size 432x288 with 1 Axes>"
            ],
            "image/png": "[encoded data removed]"
          },
          "metadata": {
            "needs_background": "light"
          }
        }
      ]
    },
    {
      "cell_type": "code",
      "source": [
        "def display_prediction (params):\n",
        "    y_predicted = model(params.data, x).clone().detach()\n",
        "\n",
        "    plt.figure ()\n",
        "    plt.plot(x.to(cpu0), y_true.to(cpu0), 'b-', label=\"original function\")\n",
        "    plt.plot(x.to(cpu0), y_observed.to(cpu0), 'r.', label=\"observed data\")\n",
        "    plt.plot(x.to(cpu0), y_predicted.to(cpu0), 'g-', label=\"predicted function\")\n",
        "    plt.xlabel('x')\n",
        "    plt.ylabel('y')\n",
        "    plt.legend()"
      ],
      "metadata": {
        "id": "ALxRuZiMKUKv"
      },
      "execution_count": 14,
      "outputs": []
    },
    {
      "cell_type": "code",
      "source": [
        "display_prediction (params)"
      ],
      "metadata": {
        "colab": {
          "base_uri": "https://localhost:8080/",
          "height": 279
        },
        "id": "TfatTzkiY6tT",
        "outputId": "04ac0642-be1f-4468-9839-8556ea93c1ff"
      },
      "execution_count": 15,
      "outputs": [
        {
          "output_type": "display_data",
          "data": {
            "text/plain": [
              "<Figure size 432x288 with 1 Axes>"
            ],
            "image/png": "[encoded data removed]"
          },
          "metadata": {
            "needs_background": "light"
          }
        }
      ]
    },
    {
      "cell_type": "code",
      "source": [],
      "metadata": {
        "id": "ttpVPho7ZGkn"
      },
      "execution_count": 15,
      "outputs": []
    }
  ]
}