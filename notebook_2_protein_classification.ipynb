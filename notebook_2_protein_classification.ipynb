{
  "cells": [
    {
      "cell_type": "markdown",
      "metadata": {
        "id": "view-in-github",
        "colab_type": "text"
      },
      "source": [
        "<a href=\"https://colab.research.google.com/github/MohsenSadeghi/ml_course/blob/main/notebook_2_protein_classification.ipynb\" target=\"_parent\"><img src=\"https://colab.research.google.com/assets/colab-badge.svg\" alt=\"Open In Colab\"/></a>"
      ]
    },
    {
      "cell_type": "code",
      "execution_count": 1,
      "metadata": {
        "id": "rO4l0lJhRuW1"
      },
      "outputs": [],
      "source": [
        "import numpy as np\n",
        "import matplotlib.pyplot as plt\n",
        "import torch.nn as nn\n",
        "import torch\n",
        "from tqdm.notebook import tqdm\n",
        "import pickle, glob, urllib"
      ]
    },
    {
      "cell_type": "code",
      "execution_count": 2,
      "metadata": {
        "colab": {
          "base_uri": "https://localhost:8080/"
        },
        "id": "t5l1rX12t5qZ",
        "outputId": "297367af-190d-4386-d2cd-4597c9f06604"
      },
      "outputs": [
        {
          "output_type": "stream",
          "name": "stdout",
          "text": [
            "Is CUDA available: True\n",
            "CUDA version: 11.6\n",
            "PyTorch version: 1.13.0+cu116\n",
            "CUDA device name: Tesla T4\n"
          ]
        }
      ],
      "source": [
        "print(f\"Is CUDA available: {torch.cuda.is_available()}\")\n",
        "print(f\"CUDA version: {torch.version.cuda}\")\n",
        "print(f\"PyTorch version: {torch.__version__}\")\n",
        "\n",
        "print(f\"CUDA device name: {torch.cuda.get_device_name(0)}\")\n",
        "\n",
        "cuda0 = torch.device('cuda:0')\n",
        "cpu0 = torch.device('cpu:0')"
      ]
    },
    {
      "cell_type": "markdown",
      "metadata": {
        "id": "u4ukaPUW6Kg5"
      },
      "source": [
        "### By chaning ```save_net``` and ```load_net``` boolean variables, you can change/access the saved weights.\n",
        "### The ```train_net``` variable enables/disable the training loop."
      ]
    },
    {
      "cell_type": "code",
      "execution_count": 3,
      "metadata": {
        "id": "Z0GDL0YrvZUo"
      },
      "outputs": [],
      "source": [
        "save_net = False\n",
        "train_net = True\n",
        "load_net = True"
      ]
    },
    {
      "cell_type": "markdown",
      "metadata": {
        "id": "ASMNYKIM6Kg-"
      },
      "source": [
        "### Loading the table of sequence - protein class data from file\n",
        "\n",
        "This data comes from this paper (I have reformatted and saved it into a Python pickle for easier access):\n",
        "\n",
        "Tang, H., Zou, P., Zhang, C. et al. Identification of apolipoprotein using feature selection technique. Sci Rep 6, 30441 (2016). https://doi.org/10.1038/srep30441"
      ]
    },
    {
      "cell_type": "code",
      "execution_count": 4,
      "metadata": {
        "id": "QutzB40I6Kg_",
        "colab": {
          "base_uri": "https://localhost:8080/"
        },
        "outputId": "62099095-30b0-42f0-f162-fcdb2d0751d7"
      },
      "outputs": [
        {
          "output_type": "stream",
          "name": "stdout",
          "text": [
            "Downloading dataset...\n"
          ]
        }
      ],
      "source": [
        "if not glob.glob(\"./apolipo_dataset.pickle\") :\n",
        "\n",
        "        print(\"Downloading dataset...\")\n",
        "        \n",
        "        urllib.request.urlretrieve('https://ftp.mi.fu-berlin.de/pub/cmb-data/mohsen_data/apolipo_dataset.pickle',\n",
        "                                   './apolipo_dataset.pickle')\n",
        "        \n",
        "with open('./apolipo_dataset.pickle', 'rb') as handle:\n",
        "    dataset = pickle.load(handle)"
      ]
    },
    {
      "cell_type": "code",
      "execution_count": 5,
      "metadata": {
        "id": "2Kl5Ibmh6KhA",
        "outputId": "9df17b4d-c39b-4945-cfae-52922aab1365",
        "colab": {
          "base_uri": "https://localhost:8080/"
        }
      },
      "outputs": [
        {
          "output_type": "stream",
          "name": "stdout",
          "text": [
            "\u001b[94m sequence = \u001b[0m MKAAVLTLAVLFLTGSQARHFWQQDEPPQSPWDRVKDLATVYVDVLKDSGRDYVSQFEGSALGKQLNLKLLDNWDSVTSTFSKLREQLGPVTQEFWDNLEKETEGLRQEMSKDLEEVKAKVQPYLDDFQKKWQEEMELYRQKVEPLRAELQEGARQKLHELQEKLSPLGEEMRDRARAHVDALRTHLAPYSDELRQRLAARLEALKENGGARLAEYHAKATEHLSTLSEKAKPALEDLRQGLLPVLESFKVSFLSALEEYTKKLNTQ\n",
            "\u001b[94m does sequence belong to apolipoproteins [ground truth]? \u001b[0m \u001b[92myes \u001b[0m\n",
            "--------------------------------------------------\n",
            "\u001b[94m sequence = \u001b[0m MACIYPTTFYTSLPTKSLNMGISLTTILILSVAVLLSTAAPPSCRECYQSLHYRGEMQQYFTYHTHIERSCYGNLIEECVESGKSYYKVKNLGVCGSRNGAICPRGKQWLCFTKIGQWGVNTQVLEDIKREQIIAKAKASKPTTPPENRPRHFHSFIQKL\n",
            "\u001b[94m does sequence belong to apolipoproteins [ground truth]? \u001b[0m \u001b[91mno \u001b[0m\n",
            "--------------------------------------------------\n"
          ]
        }
      ],
      "source": [
        "_color_blue = '\\033[94m'\n",
        "_color_red = '\\033[91m'\n",
        "_color_green = '\\033[92m'\n",
        "_end_color = '\\033[0m'\n",
        "\n",
        "for i in [0, -1]:\n",
        "    print(f\"{_color_blue} sequence = {_end_color} {dataset['sequence'][i]}\")\n",
        "    print(f\"{_color_blue} does sequence belong to apolipoproteins [ground truth]? {_end_color} {[_color_red + 'no', _color_green + 'yes'][dataset['class'][i] == 1]} {_end_color}\")\n",
        "    print(\"-\" * 50)"
      ]
    },
    {
      "cell_type": "markdown",
      "metadata": {
        "id": "Q4IWixHF6KhC"
      },
      "source": [
        "### The Tokenizer\n",
        "\n",
        "we want to assign numbers to the letters used in the alphabet (in this case, protein sequences)"
      ]
    },
    {
      "cell_type": "code",
      "execution_count": 6,
      "metadata": {
        "id": "995MPsoC6KhD",
        "outputId": "70dd7605-9754-490a-a54f-fa33ca3e4dcf",
        "colab": {
          "base_uri": "https://localhost:8080/"
        }
      },
      "outputs": [
        {
          "output_type": "stream",
          "name": "stdout",
          "text": [
            "alphabet = ['A', 'C', 'D', 'E', 'F', 'G', 'H', 'I', 'K', 'L', 'M', 'N', 'P', 'Q', 'R', 'S', 'T', 'V', 'W', 'Y']\n",
            "alphabet length = 20\n"
          ]
        }
      ],
      "source": [
        "seq_text = \"\"\n",
        "\n",
        "for seq in dataset[\"sequence\"]:\n",
        "    seq_text = seq_text + seq\n",
        "    \n",
        "chars = list(set(seq_text))\n",
        "chars.sort()\n",
        "\n",
        "int2char = dict(enumerate(chars))\n",
        "char2int = {ch: ii for ii, ch in int2char.items()}\n",
        "\n",
        "print(f\"alphabet = {chars}\")\n",
        "print(f\"alphabet length = {len(chars)}\")\n",
        "non_code = len(chars)\n",
        "\n",
        "dataset[\"encoded_sequence\"] = []\n",
        "\n",
        "for _seq in dataset[\"sequence\"]:\n",
        "    encoded = np.array([char2int[ch] for ch in _seq], dtype=np.int32)\n",
        "    \n",
        "    dataset[\"encoded_sequence\"].append(encoded)"
      ]
    },
    {
      "cell_type": "code",
      "execution_count": 7,
      "metadata": {
        "id": "LRpfNdyl6KhG",
        "outputId": "ece72bd5-e959-403a-f6aa-f813cc9213a6",
        "colab": {
          "base_uri": "https://localhost:8080/"
        }
      },
      "outputs": [
        {
          "output_type": "stream",
          "name": "stdout",
          "text": [
            "\u001b[94m sequence = \u001b[0m [10  8  0  0 17  9 16  9  0 17  9  4  9 16  5 15 13  0 14  6  4 18 13 13\n",
            "  2  3 12 12 13 15 12 18  2 14 17  8  2  9  0 16 17 19 17  2 17  9  8  2\n",
            " 15  5 14  2 19 17 15 13  4  3  5 15  0  9  5  8 13  9 11  9  8  9  9  2\n",
            " 11 18  2 15 17 16 15 16  4 15  8  9 14  3 13  9  5 12 17 16 13  3  4 18\n",
            "  2 11  9  3  8  3 16  3  5  9 14 13  3 10 15  8  2  9  3  3 17  8  0  8\n",
            " 17 13 12 19  9  2  2  4 13  8  8 18 13  3  3 10  3  9 19 14 13  8 17  3\n",
            " 12  9 14  0  3  9 13  3  5  0 14 13  8  9  6  3  9 13  3  8  9 15 12  9\n",
            "  5  3  3 10 14  2 14  0 14  0  6 17  2  0  9 14 16  6  9  0 12 19 15  2\n",
            "  3  9 14 13 14  9  0  0 14  9  3  0  9  8  3 11  5  5  0 14  9  0  3 19\n",
            "  6  0  8  0 16  3  6  9 15 16  9 15  3  8  0  8 12  0  9  3  2  9 14 13\n",
            "  5  9  9 12 17  9  3 15  4  8 17 15  4  9 15  0  9  3  3 19 16  8  8  9\n",
            " 11 16 13]\n",
            "--------------------------------------------------\n",
            "\u001b[94m sequence = \u001b[0m [10  0  1  7 19 12 16 16  4 19 16 15  9 12 16  8 15  9 11 10  5  7 15  9\n",
            " 16 16  7  9  7  9 15 17  0 17  9  9 15 16  0  0 12 12 15  1 14  3  1 19\n",
            " 13 15  9  6 19 14  5  3 10 13 13 19  4 16 19  6 16  6  7  3 14 15  1 19\n",
            "  5 11  9  7  3  3  1 17  3 15  5  8 15 19 19  8 17  8 11  9  5 17  1  5\n",
            " 15 14 11  5  0  7  1 12 14  5  8 13 18  9  1  4 16  8  7  5 13 18  5 17\n",
            " 11 16 13 17  9  3  2  7  8 14  3 13  7  7  0  8  0  8  0 15  8 12 16 16\n",
            " 12 12  3 11 14 12 14  6  4  6 15  4  7 13  8  9]\n",
            "--------------------------------------------------\n"
          ]
        }
      ],
      "source": [
        "for i in [0, -1]:\n",
        "    print(f\"{_color_blue} sequence = {_end_color} {dataset['encoded_sequence'][i]}\")\n",
        "    print(\"-\" * 50)"
      ]
    },
    {
      "cell_type": "markdown",
      "metadata": {
        "id": "vRJwgoo96KhH"
      },
      "source": [
        "### Additionally, we crop the sequence at 200 residues\n",
        "\n",
        "Hopefully, the classifier can pick the class from the cropped sequence as well."
      ]
    },
    {
      "cell_type": "code",
      "execution_count": 8,
      "metadata": {
        "id": "-RdPYfWP6KhI"
      },
      "outputs": [],
      "source": [
        "fixed_length = 200\n",
        "\n",
        "dataset[\"cropped_sequence\"] = []\n",
        "\n",
        "for _seq in dataset[\"encoded_sequence\"]:\n",
        "    \n",
        "    if len(_seq) < fixed_length:\n",
        "        dataset[\"cropped_sequence\"].append(np.pad(_seq, (0, fixed_length - len(_seq)), constant_values=non_code))\n",
        "    else:\n",
        "        dataset[\"cropped_sequence\"].append(_seq[:fixed_length].copy())"
      ]
    },
    {
      "cell_type": "code",
      "execution_count": 9,
      "metadata": {
        "id": "HwB6hLl86KhJ"
      },
      "outputs": [],
      "source": [
        "for _seq in dataset[\"cropped_sequence\"]:\n",
        "    assert len(_seq) == fixed_length"
      ]
    },
    {
      "cell_type": "markdown",
      "metadata": {
        "id": "ePXKYF8m6KhK"
      },
      "source": [
        "### The following is an implementation of a \"classifier\" network\n",
        "\n",
        "It is composed of:\n",
        "- an Embedding layer (which translates the sequence into vectors of dimension ```embedding_dim```)\n",
        "- several one-dimensional Convolutional layers\n",
        "- a series of Dense layers acting on the flattened output of the last convolutional layer\n",
        "\n",
        "ReLU is used as the activation function throughout the network.\n",
        "\n",
        "Dropout is applied on the weights of the Dense layers to prevent overfitting."
      ]
    },
    {
      "cell_type": "code",
      "execution_count": 10,
      "metadata": {
        "id": "oX2tfmVc6KhL"
      },
      "outputs": [],
      "source": [
        "class ProteinClassifierNet(nn.Module):\n",
        "\n",
        "    def __init__(self, input_size, n_classes,\n",
        "                 embedding_dim=5, \n",
        "                 conv_layers_kernel_sizes = [3, 3, 3],\n",
        "                 conv_layers_n_filters = [16, 16, 4],\n",
        "                 dense_layers_dim=[128, 32, 8]):\n",
        "\n",
        "        super(ProteinClassifierNet, self).__init__()\n",
        "        \n",
        "        self.embedding = torch.nn.Embedding(num_embeddings=non_code + 1,\n",
        "                                            embedding_dim=embedding_dim)\n",
        "        \n",
        "        self.conv_layers = nn.ModuleList()\n",
        "        current_n_channels = embedding_dim\n",
        "        \n",
        "        for _kernel_size, _n_filters in zip(conv_layers_kernel_sizes, conv_layers_n_filters):\n",
        "            self.conv_layers.append(nn.Conv1d(in_channels=current_n_channels,\n",
        "                                              out_channels=_n_filters,\n",
        "                                              padding=_kernel_size // 2,\n",
        "                                              kernel_size=_kernel_size))\n",
        "            \n",
        "            current_n_channels = _n_filters\n",
        "        \n",
        "        self.dense_layers = nn.ModuleList()\n",
        "        current_dim = current_n_channels * input_size\n",
        "        \n",
        "        for _dim in dense_layers_dim:\n",
        "            \n",
        "            self.dense_layers.append(nn.Linear(in_features=current_dim,\n",
        "                                          out_features=_dim, bias=True))\n",
        "            self.dense_layers\n",
        "            current_dim = _dim\n",
        "        \n",
        "        self.dropout_layer = nn.Dropout(0.5)\n",
        "        \n",
        "        self.final_layer = nn.Linear(in_features=current_dim, out_features=n_classes, bias=True)\n",
        "     \n",
        "    def forward(self, x, **kwargs):\n",
        "    \n",
        "        x = self.embedding(x)\n",
        "        \n",
        "        x = torch.transpose(x, 1, 2)\n",
        "        \n",
        "        for _lay in self.conv_layers:\n",
        "            x = torch.relu(_lay(x, **kwargs))\n",
        "        \n",
        "        x = torch.flatten(x, start_dim=1, end_dim=-1)\n",
        "        \n",
        "        for _lay in self.dense_layers:\n",
        "            x = self.dropout_layer(torch.relu(_lay(x, **kwargs)))\n",
        "\n",
        "        x = self.final_layer (x)\n",
        "        \n",
        "        return x"
      ]
    },
    {
      "cell_type": "markdown",
      "metadata": {
        "id": "X65r6mq_6KhM"
      },
      "source": [
        "### Preparing datasets to be fed to the network for training and validation\n",
        "\n",
        "We use an 90% - 10% split between training and validation data.\n",
        "\n",
        "The data is being randomly partitioned and used in the training loop. This is a simple example of the **Holdout** cross-validation method.\n",
        "\n",
        "The ```batch_size``` can be adjusted to change the stochasticity of the gradient descent procedure."
      ]
    },
    {
      "cell_type": "code",
      "execution_count": 11,
      "metadata": {
        "id": "C9Kba-MV6KhN"
      },
      "outputs": [],
      "source": [
        "batch_size = 8\n",
        "\n",
        "torch_dataset = torch.utils.data.TensorDataset(torch.from_numpy(np.array(dataset[\"cropped_sequence\"])).to(cuda0),\n",
        "           torch.from_numpy(np.array(dataset[\"class\"])).to(cuda0))"
      ]
    },
    {
      "cell_type": "code",
      "execution_count": 12,
      "metadata": {
        "id": "0-2sZ-fF6KhO"
      },
      "outputs": [],
      "source": [
        "n_train_data = int(np.ceil(0.9 * len(torch_dataset)))\n",
        "n_validation_data = len(torch_dataset) - n_train_data"
      ]
    },
    {
      "cell_type": "markdown",
      "metadata": {
        "id": "u3XfSaDS6KhO"
      },
      "source": [
        "### Constructing an instance of the network\n",
        "\n",
        "with the given embedding dimensions, and the output dimension of 2, for two-class predictions."
      ]
    },
    {
      "cell_type": "code",
      "execution_count": 13,
      "metadata": {
        "id": "ZBc9CO8g6KhP",
        "outputId": "c2cf9731-a48f-4682-b5e1-fe6ba953834e",
        "colab": {
          "base_uri": "https://localhost:8080/"
        }
      },
      "outputs": [
        {
          "output_type": "stream",
          "name": "stdout",
          "text": [
            "ProteinClassifierNet(\n",
            "  (embedding): Embedding(21, 5)\n",
            "  (conv_layers): ModuleList(\n",
            "    (0): Conv1d(5, 16, kernel_size=(3,), stride=(1,), padding=(1,))\n",
            "    (1): Conv1d(16, 16, kernel_size=(3,), stride=(1,), padding=(1,))\n",
            "    (2): Conv1d(16, 4, kernel_size=(3,), stride=(1,), padding=(1,))\n",
            "  )\n",
            "  (dense_layers): ModuleList(\n",
            "    (0): Linear(in_features=800, out_features=128, bias=True)\n",
            "    (1): Linear(in_features=128, out_features=32, bias=True)\n",
            "    (2): Linear(in_features=32, out_features=8, bias=True)\n",
            "  )\n",
            "  (dropout_layer): Dropout(p=0.5, inplace=False)\n",
            "  (final_layer): Linear(in_features=8, out_features=2, bias=True)\n",
            ")\n"
          ]
        }
      ],
      "source": [
        "net = ProteinClassifierNet (input_size=fixed_length, n_classes=2, embedding_dim=5).to(cuda0)\n",
        "\n",
        "print(net)"
      ]
    },
    {
      "cell_type": "markdown",
      "metadata": {
        "id": "-WUm454V6KhP"
      },
      "source": [
        "### This is \"Adam\", our optimizer.\n",
        "\n",
        "This is an enhanced version of a gradient-descent optimizer.\n",
        "\n",
        "The learning rate is set to be 5E-5."
      ]
    },
    {
      "cell_type": "code",
      "execution_count": 14,
      "metadata": {
        "id": "dp35CKOq6KhQ"
      },
      "outputs": [],
      "source": [
        "optimizer = torch.optim.AdamW(net.parameters(), lr=5.0e-5)"
      ]
    },
    {
      "cell_type": "markdown",
      "metadata": {
        "id": "SpTTG_rD6KhQ"
      },
      "source": [
        "### The loss function\n",
        "\n",
        "The characteristic loss function used in classification tasks is the so-called **Cross-Entropy** loss."
      ]
    },
    {
      "cell_type": "code",
      "execution_count": 15,
      "metadata": {
        "id": "CPJoCDJ56KhR"
      },
      "outputs": [],
      "source": [
        "loss_function = nn.CrossEntropyLoss(reduction='mean')"
      ]
    },
    {
      "cell_type": "markdown",
      "metadata": {
        "id": "tQK_RXte6KhR"
      },
      "source": [
        "This is a helper function to calculate the accuracy of class predictions on either of the training or validation datasets."
      ]
    },
    {
      "cell_type": "code",
      "execution_count": 16,
      "metadata": {
        "id": "rF0TxsZj6KhR"
      },
      "outputs": [],
      "source": [
        "def calc_accuracy(net, data_loader, n_classes):\n",
        "\n",
        "    correct_hit = 0.0\n",
        "    total_hit = 0.0\n",
        "\n",
        "    net.eval()\n",
        "\n",
        "    with torch.no_grad():\n",
        "\n",
        "        for i, (input_data, target_data) in enumerate(data_loader):\n",
        "\n",
        "            outputs = torch.nn.functional.softmax(net(input_data), dim=1)\n",
        "\n",
        "            predicted = torch.argmax(outputs, dim=1)\n",
        "\n",
        "            for _t, _p in zip(target_data.cpu().numpy(), predicted.cpu().numpy()):\n",
        "\n",
        "                total_hit += 1.0\n",
        "\n",
        "                if _t == _p:\n",
        "\n",
        "                    correct_hit += 1.0\n",
        "\n",
        "    return correct_hit / total_hit"
      ]
    },
    {
      "cell_type": "markdown",
      "metadata": {
        "id": "Hu-32XMu6KhS"
      },
      "source": [
        "Getting things ready for the training loop:"
      ]
    },
    {
      "cell_type": "code",
      "execution_count": 17,
      "metadata": {
        "id": "ZincvN_L6KhS"
      },
      "outputs": [],
      "source": [
        "n_epochs = 150\n",
        "\n",
        "gathered_loss = {'training': [], 'validation': [], 'accuracy': []}"
      ]
    },
    {
      "cell_type": "code",
      "execution_count": 18,
      "metadata": {
        "id": "MyNlFjBw6KhU",
        "colab": {
          "base_uri": "https://localhost:8080/"
        },
        "outputId": "7b962db3-8798-4ed8-ab10-19977dffd43e"
      },
      "outputs": [
        {
          "output_type": "stream",
          "name": "stdout",
          "text": [
            "Downloading network weights...\n"
          ]
        }
      ],
      "source": [
        "if load_net:\n",
        "    print(\"Downloading network weights...\")\n",
        "\n",
        "    urllib.request.urlretrieve('https://ftp.mi.fu-berlin.de/pub/cmb-data/mohsen_data/protein_classifier.pth',\n",
        "                                './protein_classifier.pth')\n",
        "    \n",
        "    urllib.request.urlretrieve('https://ftp.mi.fu-berlin.de/pub/cmb-data/mohsen_data/protein_classifier_loss.pickle',\n",
        "                                './protein_classifier_loss.pickle')\n",
        "            \n",
        "    net.load_state_dict(torch.load(\"./protein_classifier.pth\"))\n",
        "\n",
        "    with open('./protein_classifier_loss.pickle', 'rb') as handle:\n",
        "        gathered_loss = pickle.load(handle)"
      ]
    },
    {
      "cell_type": "markdown",
      "metadata": {
        "id": "JNFjn-sM6KhS"
      },
      "source": [
        "### The training loop\n",
        "\n",
        "We continue the training until:\n",
        "\n",
        "- the network starts to overfit (validation loss starts to gain on training loss)\n",
        "- we reach a maximum number of epochs"
      ]
    },
    {
      "cell_type": "code",
      "execution_count": 19,
      "metadata": {
        "id": "DnkF1OEq6KhT",
        "colab": {
          "base_uri": "https://localhost:8080/"
        },
        "outputId": "4a96acef-05e9-48e8-d941-77bd001f2cde"
      },
      "outputs": [
        {
          "output_type": "stream",
          "name": "stdout",
          "text": [
            "epoch: 2 -- training loss = 0.289924 -- validation loss = 0.283709 -- validation accuracy = 0.94\n",
            "epoch: 4 -- training loss = 0.309958 -- validation loss = 0.193502 -- validation accuracy = 1.00\n",
            "epoch: 6 -- training loss = 0.294456 -- validation loss = 0.230950 -- validation accuracy = 1.00\n",
            "epoch: 8 -- training loss = 0.254908 -- validation loss = 0.184068 -- validation accuracy = 1.00\n",
            "epoch: 10 -- training loss = 0.264802 -- validation loss = 0.373154 -- validation accuracy = 0.89\n"
          ]
        }
      ],
      "source": [
        "if train_net:\n",
        "    \n",
        "    epoch = 0\n",
        "    _accuracy = 0.0\n",
        "    _mean_train_loss = 0.0\n",
        "    _mean_val_loss = -1.0\n",
        "    \n",
        "    while _mean_val_loss < 1.4 * _mean_train_loss and epoch < n_epochs:\n",
        "\n",
        "        train_data, validation_data = torch.utils.data.random_split(torch_dataset, [n_train_data, n_validation_data])\n",
        "\n",
        "        train_dataset = torch.utils.data.DataLoader(train_data, batch_size, drop_last=False)\n",
        "        validation_dataset = torch.utils.data.DataLoader(validation_data, batch_size, drop_last=False)\n",
        "\n",
        "        train_loss = []\n",
        "\n",
        "        net.train()\n",
        "\n",
        "        for i, (input_data, target_data) in enumerate(train_dataset):\n",
        "\n",
        "            optimizer.zero_grad()\n",
        "\n",
        "            output_data = net(input_data)\n",
        "            \n",
        "            _loss = loss_function(output_data, target_data)\n",
        "\n",
        "            _loss.backward()\n",
        "\n",
        "            optimizer.step()\n",
        "\n",
        "            train_loss.append(_loss.item())\n",
        "        \n",
        "        _mean_train_loss = np.mean(train_loss)\n",
        "        \n",
        "        gathered_loss['training'].append(_mean_train_loss)\n",
        "\n",
        "        validation_loss = []\n",
        "\n",
        "        net.eval()\n",
        "\n",
        "        with torch.no_grad():\n",
        "\n",
        "            for (input_data, target_data) in validation_dataset:\n",
        "\n",
        "                optimizer.zero_grad()\n",
        "\n",
        "                output_data = net(input_data)\n",
        "\n",
        "                _loss = loss_function(output_data, target_data)\n",
        "                \n",
        "                validation_loss.append(_loss.item())\n",
        "    \n",
        "        _accuracy = calc_accuracy(net, validation_dataset, 2)\n",
        "        _mean_val_loss = np.mean(validation_loss)\n",
        "        \n",
        "        gathered_loss[\"validation\"].append(_mean_val_loss)\n",
        "        gathered_loss[\"accuracy\"].append(_accuracy)\n",
        "        \n",
        "        epoch +=1 \n",
        "\n",
        "        if epoch % 2 == 0:\n",
        "            print(f\"epoch: {epoch} -- training loss = {gathered_loss['training'][-1]:.6f}\" +\\\n",
        "                  f\" -- validation loss = {gathered_loss['validation'][-1]:.6f}\" +\\\n",
        "                  f\" -- validation accuracy = {gathered_loss['accuracy'][-1]:.2f}\")"
      ]
    },
    {
      "cell_type": "code",
      "execution_count": 20,
      "metadata": {
        "id": "mNFwFHN56KhT"
      },
      "outputs": [],
      "source": [
        "if save_net:\n",
        "    torch.save(net.state_dict(), \"./protein_classifier.pth\")\n",
        "\n",
        "    with open('./protein_classifier_loss.pickle', 'wb') as handle:\n",
        "        pickle.dump(gathered_loss, handle, protocol=pickle.HIGHEST_PROTOCOL)"
      ]
    },
    {
      "cell_type": "markdown",
      "metadata": {
        "id": "ZpcGcplc6KhU"
      },
      "source": [
        "### The behavior of training and validation loss as well as validation accuracy\n",
        "\n",
        "Pay attention to the eventual saturation of the training and the start of over-fitting"
      ]
    },
    {
      "cell_type": "code",
      "execution_count": 21,
      "metadata": {
        "id": "M2Bm5VQG6KhU",
        "outputId": "a2248920-65cb-4a28-a8f9-c62c63d432ea",
        "colab": {
          "base_uri": "https://localhost:8080/",
          "height": 558
        }
      },
      "outputs": [
        {
          "output_type": "execute_result",
          "data": {
            "text/plain": [
              "<matplotlib.legend.Legend at 0x7f7621acd7f0>"
            ]
          },
          "metadata": {},
          "execution_count": 21
        },
        {
          "output_type": "display_data",
          "data": {
            "text/plain": [
              "<Figure size 432x288 with 1 Axes>"
            ],
            "image/png": "[encoded data removed]"
          },
          "metadata": {
            "needs_background": "light"
          }
        },
        {
          "output_type": "display_data",
          "data": {
            "text/plain": [
              "<Figure size 432x288 with 1 Axes>"
            ],
            "image/png": "[encoded data removed]"
          },
          "metadata": {
            "needs_background": "light"
          }
        }
      ],
      "source": [
        "plt.figure()\n",
        "\n",
        "for loss_type in ['training', 'validation']:\n",
        "    \n",
        "    _loss = gathered_loss[loss_type]\n",
        "    \n",
        "    plt.plot(np.arange(len(_loss)), _loss, label=loss_type + ' loss')\n",
        "\n",
        "plt.xlabel('epoch')\n",
        "plt.ylabel('loss')\n",
        "plt.legend()\n",
        "\n",
        "plt.figure()\n",
        "\n",
        "_accuracy = gathered_loss[\"accuracy\"]\n",
        "\n",
        "plt.plot(np.arange(len(_accuracy)), _accuracy, label='validation accuracy')\n",
        "\n",
        "plt.xlabel('epoch')\n",
        "plt.ylabel('accuracy')\n",
        "plt.legend()"
      ]
    },
    {
      "cell_type": "markdown",
      "source": [
        "### Let's test the trained network with random draws from the whole dataset"
      ],
      "metadata": {
        "id": "s2JQuulj7ayj"
      }
    },
    {
      "cell_type": "code",
      "execution_count": 24,
      "metadata": {
        "id": "ttpVPho7ZGkn",
        "colab": {
          "base_uri": "https://localhost:8080/"
        },
        "outputId": "269939ed-5c5e-49cf-f6c8-6691451979a2"
      },
      "outputs": [
        {
          "output_type": "stream",
          "name": "stdout",
          "text": [
            "\u001b[94m sequence = \u001b[0m MIPARFAGVLLALALILPGTLCAEGTRGRSSTARCSLFGSDFVNTFDGSMYSFAGYCSYLLAGGCQKRSFSIIGDFQNGKRVSLSVYLGEFFDIHLFVNGTVTQGDQRVSMPYASKGLYLETEAGYYKLSGEAYGFVARIDGSGNFQVLLSDRYFNKTCGLCGNFNIFAEDDFMTQEGTLTSDPYDFANSWALSSGEQWCERASPPSSSCNISSGEMQKGLWEQCQLLKSTSVFARCHPLVDPEPFVALCEKTLCECAGGLECACPALLEYARTCAQEGMVLYGWTDHSACSPVCPAGMEYRQCVSPCARTCQSLHINEMCQERCVDGCSCPEGQLLDEGLCVESTECPCVHSGKRYPPGTSLSRDCNTCICRNSQWICSNEECPGECLVTGQSHFKSFDNRYFTFSGICQYLLARDCQDHSFSIVIETVQCADDRDAVCTRSVTVRLPGLHNSLVKLKHGAGVAMDGQDVQLPLLKGDLRIQHTVTASVRLSYGEDLQMDWDGRGRLLVKLSPVYAGKTCGLCGNYNGNQGDDFLTPSGLAEPRVEDFGNAWKLHGDCQDLQKQHSDPCALNPRMTRFSEEACAVLTSPTFEACHRAVSPLPYLRNCRYDVCSCSDGRECLCGALASYAAACAGRGVRVAWREPGRCELNCPKGQVYLQCGTPCNLTCRSLSYPDEECNEACLEGCFCPPGLYMDERGDCVPKAQCPCYYDGEIFQPEDIFSDHHTMCYCEDGFMHCTMSGVPGSLLPDAVLSSPLSHRSKRSLSCRPPMVKLVCPADNLRAEGLECTKTCQNYDLECMSMGCVSGCLCPPGMVRHENRCVALERCPCFHQGKEYAPGETVKIGCNTCVCQDRKWNCTDHVCDATCSTIGMAHYLTFDGLKYLFPGECQYVLVQDYCGSNPGTFRILVGNKGCSHPSVKCKKRVTILVEGGEIELFDGEVNVKRPMKDETHFEVVESGRYIILLLGKALSVVWDRHLSISVVLKQTYQEKVCGLCGNFDGIQNNDLTSSNLQVEEDPVDFGNSWKVSSQCADTRKVPLDSSPATCHNNIMKQTMVDSSCRILTSDVFQDCNKLVDPEPYLDVCIYDTCSCESIGDCACFCDTIAAYAHVCAQHGKVVTWRTATLCPQSCEERNLRENGYECEWRYNSCAPACQVTCQHPEPLACPVQCVEGCHAHCPPGKILDELLQTCVDPEDCPVCEVAGRRFASGKKVTLNPSDPEHCQICHCDVVNLTCEACQEPGGLVVPPTDAPVSPTTLYVEDISEPPLHDFYCSRLLDLVFLLDGSSRLSEAEFEVLKAFVVDMMERLRISQKWVRVAVVEYHDGSHAYIGLKDRKRPSELRRIASQVKYAGSQVASTSEVLKYTLFQIFSKIDRPEASRITLLLMASQEPQRMSRNFVRYVQGLKKKKVIVIPVGIGPHANLKQIRLIEKQAPENKAFVLSSVDELEQQRDEIVSYLCDLAPEAPPPTLPPDMAQVTVGPGLLGVSTLGPKRNSMVLDVAFVLEGSDKIGEADFNRSKEFMEEVIQRMDVGQDSIHVTVLQYSYMVTVEYPFSEAQSKGDILQRVREIRYQGGNRTNTGLALRYLSDHSFLVSQGDREQAPNLVYMVTGNPASDEIKRLPGDIQVVPIGVGPNANVQELERIGWPNAPILIQDFETLPREAPDLVLQRCCSGEGLQIPTLSPAPDCSQPLDVILLLDGSSSFPASYFDEMKSFAKAFISKANIGPRLTQVSVLQYGSITTIDVPWNVVPEKAHLLSLVDVMQREGGPSQIGDALGFAVRYLTSEMHGARPGASKAVVILVTDVSVDSVDAAADAARSNRVTVFPIGIGDRYDAAQLRILAGPAGDSNVVKLQRIEDLPTMVTLGNSFLHKLCSGFVRICMDEDGNEKRPGDVWTLPDQCHTVTCQPDGQTLLKSHRVNCDRGLRPSCPNSQSPVKVEETCGCRWTCPCVCTGSSTRHIVTFDGQNFKLTGSCSYVLFQNKEQDLEVILHNGACSPGARQGCMKSIEVKHSALSVELHSDMEVTVNGRLVSVPYVGGNMEVNVYGAIMHEVRFNHLGHIFTFTPQNNEFQLQLSPKTFASKTYGLCGICDENGANDFMLRDGTVTTDWKTLVQEWTVQRPGQTCQPILEEQCLVPDSSHCQVLLLPLFAECHKVLAPATFYAICQQDSCHQEQVCEVIASYAHLCRTNGVCVDWRTPDFCAMSCPPSLVYNHCEHGCPRHCDGNVSSCGDHPSEGCFCPPDKVMLEGSCVPEEACTQCIGEDGVQHQFLEAWVPDHQPCQICTCLSGRKVNCTTQPCPTAKAPTCGLCEVARLRQNADQCCPEYECVCDPVSCDLPPVPHCERGLQPTLTNPGECRPNFTCACRKEECKRVSPPSCPPHRLPTLRKTQCCDEYECACNCVNSTVSCPLGYLASTATNDCGCTTTTCLPDKVCVHRSTIYPVGQFWEEGCDVCTCTDMEDAVMGLRVAQCSQKPCEDSCRSGFTYVLHEGECCGRCLPSACEVVTGSPRGDSQSSWKSVGSQWASPENPCLINECVRVKEEVFIQQRNVSCPQLEVPVCPSGFQLSCKTSACCPSCRCERMEACMLNGTVIGPGKTVMIDVCTTCRCMVQVGVISGFKLECRKTTCNPCPLGYKEENNTGECCGRCLPTACTIQLRGGQIMTLKRDETLQDGCDTHFCKVNERGEYFWEKRVTGCPPFDEHKCLAEGGKIMKIPGTCCDTCEEPECNDITARLQYVKVGSCKSEVEVDIHYCQGKCASKAMYSIDINDVQDQCSCCSPTRTEPMQVALHCTNGSVVYHEVLNAMECKCSPRKCSK\n",
            "\u001b[94m does sequence belong to apolipoproteins [ground truth]? \u001b[0m \u001b[91mno \u001b[0m\n",
            "\u001b[94m does sequence belong to apolipoproteins [network prediction]? \u001b[0m \u001b[91mno \u001b[0m\n",
            "--------------------------------------------------\n",
            "\u001b[94m sequence = \u001b[0m MHPGVLAAFLFLSWTHCRALPLPSGGDEDDLSEEDLQFAERYLRSYYHPTNLAGILKENAASSMTERLREMQSFFGLEVTGKLDDNTLDVMKKPRCGVPDVGEYNVFPRTLKWSKMNLTYRIVNYTPDMTHSEVEKAFKKAFKVWSDVTPLNFTRLHDGIADIMISFGIKEHGDFYPFDGPSGLLAHAFPPGPNYGGDAHFDDDETWTSSSKGYNLFLVAAHEFGHSLGLDHSKDPGALMFPIYTYTGKSHFMLPDDDVQGIQSLYGPGDEDPNPKHPKTPDKCDPSLSLDAITSLRGETMIFKDRFFWRLHPQQVDAELFLTKSFWPELPNRIDAAYEHPSHDLIFIFRGRKFWALNGYDILEGYPKKISELGLPKEVKKISAAVHFEDTGKTLLFSGNQVWRYDDTNHIMDKDYPRLIEEDFPGIGDKVDAVYEKNGYIYFFNGPIQFEYSIWSNRIVRVMPANSILWC\n",
            "\u001b[94m does sequence belong to apolipoproteins [ground truth]? \u001b[0m \u001b[91mno \u001b[0m\n",
            "\u001b[94m does sequence belong to apolipoproteins [network prediction]? \u001b[0m \u001b[91mno \u001b[0m\n",
            "--------------------------------------------------\n",
            "\u001b[94m sequence = \u001b[0m MFKVIQRSVGPASLSLLTFKVYAAPKKDSPPKNSVKVDELSLYSVPEGQSKYVEEARSQLEESISQLRHYCEPYTTWCQETYSQTKPKMQSLVQWGLDSYDYLQNAPPGFFPRLGVIGFAGLIGLLLARGSKIKKLVYPPGFMGLAASLYYPQQAIVFAQVSGERLYDWGLRGYIVIEDLWKENFQKPGNVKNSPGTK\n",
            "\u001b[94m does sequence belong to apolipoproteins [ground truth]? \u001b[0m \u001b[92myes \u001b[0m\n",
            "\u001b[94m does sequence belong to apolipoproteins [network prediction]? \u001b[0m \u001b[92myes \u001b[0m\n",
            "--------------------------------------------------\n",
            "\u001b[94m sequence = \u001b[0m MKTRCFCLAAFSGILTTLAIPNEIKETGYSILGFVAYVPLFIALNKLEDKKALMGLTVFYFIIANSLQNFWLGFFHAFGWITFIGVIIGYIPYSLTLGYFLYYSLKSFKNKTMSITMLFTFYDYSRSIGFLAYPWGLAAFTVNNFNNLIQIADIFGVFFVSFAVYFLNSGIADFLIHKNKTNLLNIAFPTLLITASFTYGMIKKIELKNLLAKEIDSLNIAAIQLNTDPWLPGNDKKGIRDSIEITEQALKENPKIEFVIWSEGVLTYPFSKEDQHFKSSDLHNELKNFIKEHKIPFAIGAPSNLDKAIGIQQNSIYMVEPNLNITNIYSKIFLVPFAEKIPFYEYKFVRNFFLKNFRILGQIEGNKIEILKLKKFKFAPLICYDDAFPELSRFYKTQGANILVNFSNDSWSKTNSAEWQHFVVAKFRSIENGIKTIRATNSGITATINEYGETIKKLETFKKGYLLSTVKLSPTFTTIYEKIGDSFIHILVMMFLITTLRFQFMEDKNQLLSSSVVKIKV\n",
            "\u001b[94m does sequence belong to apolipoproteins [ground truth]? \u001b[0m \u001b[92myes \u001b[0m\n",
            "\u001b[94m does sequence belong to apolipoproteins [network prediction]? \u001b[0m \u001b[92myes \u001b[0m\n",
            "--------------------------------------------------\n"
          ]
        }
      ],
      "source": [
        "for i in range(4):\n",
        "    _id = np.random.randint(len(torch_dataset))\n",
        "    input_data = torch_dataset[_id][0].reshape((1, -1))\n",
        "    input_class = torch_dataset[_id][1]\n",
        "\n",
        "    outputs = torch.nn.functional.softmax(net(input_data), dim=1)\n",
        "    predicted = torch.argmax(outputs, dim=1)\n",
        "\n",
        "    print(f\"{_color_blue} sequence = {_end_color} {dataset['sequence'][_id]}\")\n",
        "    print(f\"{_color_blue} does sequence belong to apolipoproteins [ground truth]? {_end_color} {[_color_red + 'no', _color_green + 'yes'][input_class.item() == 1]} {_end_color}\")\n",
        "    print(f\"{_color_blue} does sequence belong to apolipoproteins [network prediction]? {_end_color} {[_color_red + 'no', _color_green + 'yes'][predicted.item() == 1]} {_end_color}\")\n",
        "    print(\"-\" * 50)"
      ]
    },
    {
      "cell_type": "code",
      "source": [],
      "metadata": {
        "id": "XC0i7cPQ49I_"
      },
      "execution_count": null,
      "outputs": []
    }
  ],
  "metadata": {
    "accelerator": "GPU",
    "colab": {
      "provenance": [],
      "include_colab_link": true
    },
    "gpuClass": "standard",
    "kernelspec": {
      "display_name": "Python 3 (ipykernel)",
      "language": "python",
      "name": "python3"
    },
    "language_info": {
      "codemirror_mode": {
        "name": "ipython",
        "version": 3
      },
      "file_extension": ".py",
      "mimetype": "text/x-python",
      "name": "python",
      "nbconvert_exporter": "python",
      "pygments_lexer": "ipython3",
      "version": "3.7.12"
    }
  },
  "nbformat": 4,
  "nbformat_minor": 0
}